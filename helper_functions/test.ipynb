{
 "metadata": {
  "language_info": {
   "codemirror_mode": {
    "name": "ipython",
    "version": 3
   },
   "file_extension": ".py",
   "mimetype": "text/x-python",
   "name": "python",
   "nbconvert_exporter": "python",
   "pygments_lexer": "ipython3",
   "version": "3.8.5-final"
  },
  "orig_nbformat": 2,
  "kernelspec": {
   "name": "Python 3.8.5 64-bit",
   "display_name": "Python 3.8.5 64-bit",
   "metadata": {
    "interpreter": {
     "hash": "082e9a3bcad0a290d0001e938aa60b99250c6c2ef33a923c00b70f9826caf4b7"
    }
   }
  }
 },
 "nbformat": 4,
 "nbformat_minor": 2,
 "cells": [
  {
   "cell_type": "code",
   "execution_count": 2,
   "metadata": {},
   "outputs": [],
   "source": [
    "from bs4 import BeautifulSoup\n",
    "import requests, re\n",
    "import pandas as pd\n",
    "import numpy as np"
   ]
  },
  {
   "cell_type": "code",
   "execution_count": 4,
   "metadata": {},
   "outputs": [
    {
     "output_type": "execute_result",
     "data": {
      "text/plain": [
       "              Name       Date  Game Team  Carries  Rush_Yards  \\\n",
       "0   Derrick Henry  2019-09-08     1  TEN       19          84   \n",
       "1   Derrick Henry  2019-09-15     2  TEN       15          82   \n",
       "2   Derrick Henry  2019-09-19     3  TEN       17          44   \n",
       "3   Derrick Henry  2019-09-29     4  TEN       27         100   \n",
       "4   Derrick Henry  2019-10-06     5  TEN       20          78   \n",
       "5   Derrick Henry  2019-10-13     6  TEN       15          28   \n",
       "6   Derrick Henry  2019-10-20     7  TEN       22          90   \n",
       "7   Derrick Henry  2019-10-27     8  TEN       16          75   \n",
       "8   Derrick Henry  2019-11-03     9  TEN       13          63   \n",
       "9   Derrick Henry  2019-11-10    10  TEN       23         188   \n",
       "10  Derrick Henry  2019-11-24    11  TEN       19         159   \n",
       "11  Derrick Henry  2019-12-01    12  TEN       26         149   \n",
       "12  Derrick Henry  2019-12-08    13  TEN       18         103   \n",
       "13  Derrick Henry  2019-12-15    14  TEN       21          86   \n",
       "\n",
       "    Yards_per_Carry  Rush_TD  Receptions  Receiving_Yards    Y/R  Receiving_TD  \n",
       "0              4.42        1           1               75  75.00             1  \n",
       "1              5.47        1           2               12   6.00             0  \n",
       "2              2.59        1           1                2   2.00             0  \n",
       "3              3.70        0           1                8   8.00             0  \n",
       "4              3.90        1           0                0                    0  \n",
       "5              1.87        0           1                5   5.00             0  \n",
       "6              4.09        1           1               18  18.00             0  \n",
       "7              4.69        0           1                8   8.00             0  \n",
       "8              4.85        1           3               36  12.00             1  \n",
       "9              8.17        2           2                3   1.50             0  \n",
       "10             8.37        2           1               16  16.00             0  \n",
       "11             5.73        1           3               17   5.67             0  \n",
       "12             5.72        2           1                6   6.00             0  \n",
       "13             4.10        0           0                0                    0  "
      ],
      "text/html": "<div>\n<style scoped>\n    .dataframe tbody tr th:only-of-type {\n        vertical-align: middle;\n    }\n\n    .dataframe tbody tr th {\n        vertical-align: top;\n    }\n\n    .dataframe thead th {\n        text-align: right;\n    }\n</style>\n<table border=\"1\" class=\"dataframe\">\n  <thead>\n    <tr style=\"text-align: right;\">\n      <th></th>\n      <th>Name</th>\n      <th>Date</th>\n      <th>Game</th>\n      <th>Team</th>\n      <th>Carries</th>\n      <th>Rush_Yards</th>\n      <th>Yards_per_Carry</th>\n      <th>Rush_TD</th>\n      <th>Receptions</th>\n      <th>Receiving_Yards</th>\n      <th>Y/R</th>\n      <th>Receiving_TD</th>\n    </tr>\n  </thead>\n  <tbody>\n    <tr>\n      <th>0</th>\n      <td>Derrick Henry</td>\n      <td>2019-09-08</td>\n      <td>1</td>\n      <td>TEN</td>\n      <td>19</td>\n      <td>84</td>\n      <td>4.42</td>\n      <td>1</td>\n      <td>1</td>\n      <td>75</td>\n      <td>75.00</td>\n      <td>1</td>\n    </tr>\n    <tr>\n      <th>1</th>\n      <td>Derrick Henry</td>\n      <td>2019-09-15</td>\n      <td>2</td>\n      <td>TEN</td>\n      <td>15</td>\n      <td>82</td>\n      <td>5.47</td>\n      <td>1</td>\n      <td>2</td>\n      <td>12</td>\n      <td>6.00</td>\n      <td>0</td>\n    </tr>\n    <tr>\n      <th>2</th>\n      <td>Derrick Henry</td>\n      <td>2019-09-19</td>\n      <td>3</td>\n      <td>TEN</td>\n      <td>17</td>\n      <td>44</td>\n      <td>2.59</td>\n      <td>1</td>\n      <td>1</td>\n      <td>2</td>\n      <td>2.00</td>\n      <td>0</td>\n    </tr>\n    <tr>\n      <th>3</th>\n      <td>Derrick Henry</td>\n      <td>2019-09-29</td>\n      <td>4</td>\n      <td>TEN</td>\n      <td>27</td>\n      <td>100</td>\n      <td>3.70</td>\n      <td>0</td>\n      <td>1</td>\n      <td>8</td>\n      <td>8.00</td>\n      <td>0</td>\n    </tr>\n    <tr>\n      <th>4</th>\n      <td>Derrick Henry</td>\n      <td>2019-10-06</td>\n      <td>5</td>\n      <td>TEN</td>\n      <td>20</td>\n      <td>78</td>\n      <td>3.90</td>\n      <td>1</td>\n      <td>0</td>\n      <td>0</td>\n      <td></td>\n      <td>0</td>\n    </tr>\n    <tr>\n      <th>5</th>\n      <td>Derrick Henry</td>\n      <td>2019-10-13</td>\n      <td>6</td>\n      <td>TEN</td>\n      <td>15</td>\n      <td>28</td>\n      <td>1.87</td>\n      <td>0</td>\n      <td>1</td>\n      <td>5</td>\n      <td>5.00</td>\n      <td>0</td>\n    </tr>\n    <tr>\n      <th>6</th>\n      <td>Derrick Henry</td>\n      <td>2019-10-20</td>\n      <td>7</td>\n      <td>TEN</td>\n      <td>22</td>\n      <td>90</td>\n      <td>4.09</td>\n      <td>1</td>\n      <td>1</td>\n      <td>18</td>\n      <td>18.00</td>\n      <td>0</td>\n    </tr>\n    <tr>\n      <th>7</th>\n      <td>Derrick Henry</td>\n      <td>2019-10-27</td>\n      <td>8</td>\n      <td>TEN</td>\n      <td>16</td>\n      <td>75</td>\n      <td>4.69</td>\n      <td>0</td>\n      <td>1</td>\n      <td>8</td>\n      <td>8.00</td>\n      <td>0</td>\n    </tr>\n    <tr>\n      <th>8</th>\n      <td>Derrick Henry</td>\n      <td>2019-11-03</td>\n      <td>9</td>\n      <td>TEN</td>\n      <td>13</td>\n      <td>63</td>\n      <td>4.85</td>\n      <td>1</td>\n      <td>3</td>\n      <td>36</td>\n      <td>12.00</td>\n      <td>1</td>\n    </tr>\n    <tr>\n      <th>9</th>\n      <td>Derrick Henry</td>\n      <td>2019-11-10</td>\n      <td>10</td>\n      <td>TEN</td>\n      <td>23</td>\n      <td>188</td>\n      <td>8.17</td>\n      <td>2</td>\n      <td>2</td>\n      <td>3</td>\n      <td>1.50</td>\n      <td>0</td>\n    </tr>\n    <tr>\n      <th>10</th>\n      <td>Derrick Henry</td>\n      <td>2019-11-24</td>\n      <td>11</td>\n      <td>TEN</td>\n      <td>19</td>\n      <td>159</td>\n      <td>8.37</td>\n      <td>2</td>\n      <td>1</td>\n      <td>16</td>\n      <td>16.00</td>\n      <td>0</td>\n    </tr>\n    <tr>\n      <th>11</th>\n      <td>Derrick Henry</td>\n      <td>2019-12-01</td>\n      <td>12</td>\n      <td>TEN</td>\n      <td>26</td>\n      <td>149</td>\n      <td>5.73</td>\n      <td>1</td>\n      <td>3</td>\n      <td>17</td>\n      <td>5.67</td>\n      <td>0</td>\n    </tr>\n    <tr>\n      <th>12</th>\n      <td>Derrick Henry</td>\n      <td>2019-12-08</td>\n      <td>13</td>\n      <td>TEN</td>\n      <td>18</td>\n      <td>103</td>\n      <td>5.72</td>\n      <td>2</td>\n      <td>1</td>\n      <td>6</td>\n      <td>6.00</td>\n      <td>0</td>\n    </tr>\n    <tr>\n      <th>13</th>\n      <td>Derrick Henry</td>\n      <td>2019-12-15</td>\n      <td>14</td>\n      <td>TEN</td>\n      <td>21</td>\n      <td>86</td>\n      <td>4.10</td>\n      <td>0</td>\n      <td>0</td>\n      <td>0</td>\n      <td></td>\n      <td>0</td>\n    </tr>\n  </tbody>\n</table>\n</div>"
     },
     "metadata": {},
     "execution_count": 4
    }
   ],
   "source": [
    "url = 'https://www.pro-football-reference.com/players/H/HenrDe00/gamelog/2019/'\n",
    "\n",
    "#Request HTML and parse\n",
    "response = requests.get(url)\n",
    "page = response.text\n",
    "soup = BeautifulSoup(page,\"lxml\")\n",
    "\n",
    "name = soup.find('h1').find('span').text\n",
    "\n",
    "table = soup.find('tbody')\n",
    "\n",
    "#Breaking down all data via rows via tr tag\n",
    "rows = [row for row in table.select('tr')] \n",
    "\n",
    "running_backs = {}\n",
    "\n",
    "for row in rows:\n",
    "    items = row.find_all('td')\n",
    "    running_backs[row] = [i.text for i in items[:18]]\n",
    "\n",
    "# #Create a dataframe of running back stats\n",
    "df_running_backs = pd.DataFrame(running_backs).T.reset_index() #transpose\n",
    "\n",
    "df_running_backs.columns = ['Name','Date','Game', 'Week', 'Age', 'Team', '','Opp', 'Result','Game_Started',\n",
    "'Carries', 'Rush_Yards', 'Yards_per_Carry', 'Rush_TD','Targets','Receptions','Receiving_Yards','Y/R','Receiving_TD','Catch%', 'Y/Tgt', 'Total_TDs','Pts','Fumbles', 'Fumbles_Lost','Fumbles_Forced','Fumbles_Recovered','Fumbled_Yards','Fumbled_TDs','Offensive_Num','Offensive_Snaps_%'] \n",
    "\n",
    "df_running_backs['Name'] = np.where(df_running_backs['Name'], name , df_running_backs['Name'])\n",
    "df_running_backs = df_running_backs.drop(columns=['Week','Age','','Opp','Result','Game_Started','Targets'])\n",
    "\n",
    "#Convert columns to preferred data-types\n",
    "df_running_backs['Date'] = pd.to_datetime(df_running_backs['Date'])\n",
    "df_running_backs[['Game','Carries', 'Rush_Yards','Yards_per_Carry','Rush_TD','Receptions','Receiving_Yards','Receiving_TD']] = df_running_backs[['Game','Carries', 'Rush_Yards','Yards_per_Carry','Rush_TD','Receptions','Receiving_Yards','Receiving_TD']].apply(pd.to_numeric)\n",
    "\n",
    "df_running_backs[:-1]"
   ]
  },
  {
   "cell_type": "code",
   "execution_count": null,
   "metadata": {},
   "outputs": [],
   "source": []
  }
 ]
}