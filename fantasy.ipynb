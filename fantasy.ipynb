{
 "metadata": {
  "language_info": {
   "codemirror_mode": {
    "name": "ipython",
    "version": 3
   },
   "file_extension": ".py",
   "mimetype": "text/x-python",
   "name": "python",
   "nbconvert_exporter": "python",
   "pygments_lexer": "ipython3",
   "version": "3.8.5-final"
  },
  "orig_nbformat": 2,
  "kernelspec": {
   "name": "python_defaultSpec_1601613340487",
   "display_name": "Python 3.8.5 64-bit ('metis': conda)",
   "metadata": {
    "interpreter": {
     "hash": "082e9a3bcad0a290d0001e938aa60b99250c6c2ef33a923c00b70f9826caf4b7"
    }
   }
  }
 },
 "nbformat": 4,
 "nbformat_minor": 2,
 "cells": [
  {
   "cell_type": "code",
   "execution_count": 288,
   "metadata": {
    "tags": []
   },
   "outputs": [],
   "source": [
    "\"\"\"Topic: Exploring and visualizing NFL statistics in pandas)\n",
    "Web scraping data from Pro-Football-Reference for analysis\n",
    "\"\"\"\n",
    "\n",
    "from bs4 import BeautifulSoup\n",
    "import requests\n",
    "import re\n",
    "import pandas as pd\n",
    "import numpy as np"
   ]
  },
  {
   "cell_type": "code",
   "execution_count": 289,
   "metadata": {},
   "outputs": [],
   "source": [
    "def all_position_stats(year, stat):\n",
    "\n",
    "    base_url = 'https://www.pro-football-reference.com/years/'\n",
    "    \n",
    "    #Create full url to scrape\n",
    "    url = base_url + year + '/' + stat + '.htm'\n",
    "\n",
    "    response = requests.get(url)\n",
    "    page = response.text\n",
    "\n",
    "    soup = BeautifulSoup(page,\"lxml\")\n",
    "\n",
    "    table = soup.find('tbody')\n",
    "\n",
    "    #Breaking down all data via rows \n",
    "    rows = [row for row in table.select('tr')]  # tr tag is for rows\n",
    "\n",
    "    #Calling running backs\n",
    "    position_dict = {}\n",
    "\n",
    "    for row in rows[:25]:\n",
    "        items = row.find_all('td')\n",
    "        link = items[0].find('a')\n",
    "        position_stat, url = link.text, link['href']\n",
    "        position_dict[position_stat] = [url] + [i.text for i in items]\n",
    "\n",
    "    #Create a dataframe of movies\n",
    "    df_all_stats = pd.DataFrame(position_dict).T\n",
    "\n",
    "    return df_all_stats"
   ]
  },
  {
   "cell_type": "code",
   "execution_count": 325,
   "metadata": {},
   "outputs": [],
   "source": [
    "def all_rb_defense_headers(year, stat):\n",
    "\n",
    "    base_url = 'https://www.pro-football-reference.com/years/'\n",
    "    \n",
    "    #Create full url to scrape\n",
    "    url = base_url + year + '/' + stat + '.htm'\n",
    "\n",
    "    response = requests.get(url)\n",
    "    page = response.text\n",
    "\n",
    "    soup = BeautifulSoup(page,\"lxml\")\n",
    "\n",
    "    table_head = soup.find('thead').find_all('tr')[1]\n",
    "\n",
    "    #Breaking down all data via rows \n",
    "    column_headers = [row.text for row in table_head.find_all('th')]  # tr tag is for rows\n",
    "    column_headers[0] = 'Link'\n",
    "\n",
    "    return column_headers"
   ]
  },
  {
   "cell_type": "code",
   "execution_count": 326,
   "metadata": {},
   "outputs": [],
   "source": [
    "df_all_running_backs_2019 = all_position_stats('2019','rushing')\n",
    "df_all_running_backs_2019.columns = all_rb_defense_headers('2019','rushing')"
   ]
  },
  {
   "cell_type": "code",
   "execution_count": 327,
   "metadata": {},
   "outputs": [
    {
     "output_type": "execute_result",
     "data": {
      "text/plain": "                                         Link                  Player   Tm  \\\nDerrick Henry         /players/H/HenrDe00.htm         Derrick Henry *  TEN   \nEzekiel Elliott       /players/E/ElliEz00.htm        Ezekiel Elliott*  DAL   \nNick Chubb            /players/C/ChubNi00.htm             Nick Chubb*  CLE   \nChristian McCaffrey   /players/M/McCaCh01.htm  Christian McCaffrey *+  CAR   \nChris Carson          /players/C/CarsCh00.htm            Chris Carson  SEA   \nJoe Mixon             /players/M/MixoJo00.htm               Joe Mixon  CIN   \nLeonard Fournette     /players/F/FourLe00.htm      Leonard Fournette   JAX   \nDalvin Cook           /players/C/CookDa01.htm            Dalvin Cook*  MIN   \nMarlon Mack           /players/M/MackMa00.htm             Marlon Mack  IND   \nSony Michel           /players/M/MichSo00.htm             Sony Michel  NWE   \nLe&#39;Veon Bell          /players/B/BellLe00.htm            Le&#39;Veon Bell  NYJ   \nCarlos Hyde           /players/H/HydeCa00.htm             Carlos Hyde  HOU   \nJosh Jacobs           /players/J/JacoJo01.htm             Josh Jacobs  OAK   \nDavid Montgomery      /players/M/MontDa01.htm        David Montgomery  CHI   \nAaron Jones           /players/J/JoneAa00.htm             Aaron Jones  GNB   \nPhillip Lindsay       /players/L/LindPh00.htm         Phillip Lindsay  DEN   \nTodd Gurley           /players/G/GurlTo01.htm             Todd Gurley  LAR   \nSaquon Barkley        /players/B/BarkSa00.htm          Saquon Barkley  NYG   \nAdrian Peterson       /players/P/PeteAd01.htm         Adrian Peterson  WAS   \nMark Ingram           /players/I/IngrMa01.htm            Mark Ingram*  BAL   \nDevonta Freeman       /players/F/FreeDe00.htm        Devonta Freeman   ATL   \nMiles Sanders         /players/S/SandMi01.htm          Miles Sanders   PHI   \nLamar Jackson         /players/J/JackLa00.htm         Lamar Jackson*+  BAL   \nRonald Jones II       /players/J/JoneRo01.htm         Ronald Jones II  TAM   \nAlvin Kamara          /players/K/KamaAl00.htm           Alvin Kamara*  NOR   \n\n                     Age Pos   G  GS  Att   Yds  TD  1D Lng  Y/A    Y/G Fmb  \nDerrick Henry         25  RB  15  15  303  1540  16  73  74  5.1  102.7   5  \nEzekiel Elliott       24  RB  16  16  301  1357  12  78  33  4.5   84.8   3  \nNick Chubb            24  RB  16  16  298  1494   8  62  88  5.0   93.4   3  \nChristian McCaffrey   23  RB  16  16  287  1387  15  57  84  4.8   86.7   1  \nChris Carson          25  RB  15  15  278  1230   7  75  59  4.4   82.0   7  \nJoe Mixon             23  RB  16  15  278  1137   5  56  41  4.1   71.1   0  \nLeonard Fournette     24  RB  15  15  265  1152   3  55  81  4.3   76.8   1  \nDalvin Cook           24  RB  14  14  250  1135  13  60  75  4.5   81.1   4  \nMarlon Mack           23  RB  14  12  247  1091   8  67  63  4.4   77.9   0  \nSony Michel           24  RB  16  14  247   912   7  55  26  3.7   57.0   2  \nLe&#39;Veon Bell          27  RB  15  15  245   789   3  36  19  3.2   52.6   1  \nCarlos Hyde           29  RB  16  14  245  1070   6  55  58  4.4   66.9   4  \nJosh Jacobs           21  RB  13  13  242  1150   7  53  51  4.8   88.5   1  \nDavid Montgomery      22  rb  16   8  242   889   6  50  55  3.7   55.6   2  \nAaron Jones           25  RB  16  16  236  1084  16  55  56  4.6   67.8   3  \nPhillip Lindsay       25  RB  16  16  224  1011   7  38  40  4.5   63.2   0  \nTodd Gurley           25  RB  15  15  223   857  12  51  25  3.8   57.1   3  \nSaquon Barkley        22  RB  13  13  217  1003   6  45  68  4.6   77.2   1  \nAdrian Peterson       34  RB  15  15  211   898   5  41  32  4.3   59.9   3  \nMark Ingram           30  RB  15  15  202  1018  10  53  53  5.0   67.9   2  \nDevonta Freeman       27  RB  14  14  184   656   2  31  28  3.6   46.9   3  \nMiles Sanders         22  RB  16  11  179   818   3  30  65  4.6   51.1   2  \nLamar Jackson         22  QB  15  15  176  1206   7  71  47  6.9   80.4   9  \nRonald Jones II       22  RB  16   9  172   724   6  34  49  4.2   45.3   3  \nAlvin Kamara          24  RB  14   9  171   797   5  32  40  4.7   56.9   4  ",
      "text/html": "<div>\n<style scoped>\n    .dataframe tbody tr th:only-of-type {\n        vertical-align: middle;\n    }\n\n    .dataframe tbody tr th {\n        vertical-align: top;\n    }\n\n    .dataframe thead th {\n        text-align: right;\n    }\n</style>\n<table border=\"1\" class=\"dataframe\">\n  <thead>\n    <tr style=\"text-align: right;\">\n      <th></th>\n      <th>Link</th>\n      <th>Player</th>\n      <th>Tm</th>\n      <th>Age</th>\n      <th>Pos</th>\n      <th>G</th>\n      <th>GS</th>\n      <th>Att</th>\n      <th>Yds</th>\n      <th>TD</th>\n      <th>1D</th>\n      <th>Lng</th>\n      <th>Y/A</th>\n      <th>Y/G</th>\n      <th>Fmb</th>\n    </tr>\n  </thead>\n  <tbody>\n    <tr>\n      <th>Derrick Henry</th>\n      <td>/players/H/HenrDe00.htm</td>\n      <td>Derrick Henry *</td>\n      <td>TEN</td>\n      <td>25</td>\n      <td>RB</td>\n      <td>15</td>\n      <td>15</td>\n      <td>303</td>\n      <td>1540</td>\n      <td>16</td>\n      <td>73</td>\n      <td>74</td>\n      <td>5.1</td>\n      <td>102.7</td>\n      <td>5</td>\n    </tr>\n    <tr>\n      <th>Ezekiel Elliott</th>\n      <td>/players/E/ElliEz00.htm</td>\n      <td>Ezekiel Elliott*</td>\n      <td>DAL</td>\n      <td>24</td>\n      <td>RB</td>\n      <td>16</td>\n      <td>16</td>\n      <td>301</td>\n      <td>1357</td>\n      <td>12</td>\n      <td>78</td>\n      <td>33</td>\n      <td>4.5</td>\n      <td>84.8</td>\n      <td>3</td>\n    </tr>\n    <tr>\n      <th>Nick Chubb</th>\n      <td>/players/C/ChubNi00.htm</td>\n      <td>Nick Chubb*</td>\n      <td>CLE</td>\n      <td>24</td>\n      <td>RB</td>\n      <td>16</td>\n      <td>16</td>\n      <td>298</td>\n      <td>1494</td>\n      <td>8</td>\n      <td>62</td>\n      <td>88</td>\n      <td>5.0</td>\n      <td>93.4</td>\n      <td>3</td>\n    </tr>\n    <tr>\n      <th>Christian McCaffrey</th>\n      <td>/players/M/McCaCh01.htm</td>\n      <td>Christian McCaffrey *+</td>\n      <td>CAR</td>\n      <td>23</td>\n      <td>RB</td>\n      <td>16</td>\n      <td>16</td>\n      <td>287</td>\n      <td>1387</td>\n      <td>15</td>\n      <td>57</td>\n      <td>84</td>\n      <td>4.8</td>\n      <td>86.7</td>\n      <td>1</td>\n    </tr>\n    <tr>\n      <th>Chris Carson</th>\n      <td>/players/C/CarsCh00.htm</td>\n      <td>Chris Carson</td>\n      <td>SEA</td>\n      <td>25</td>\n      <td>RB</td>\n      <td>15</td>\n      <td>15</td>\n      <td>278</td>\n      <td>1230</td>\n      <td>7</td>\n      <td>75</td>\n      <td>59</td>\n      <td>4.4</td>\n      <td>82.0</td>\n      <td>7</td>\n    </tr>\n    <tr>\n      <th>Joe Mixon</th>\n      <td>/players/M/MixoJo00.htm</td>\n      <td>Joe Mixon</td>\n      <td>CIN</td>\n      <td>23</td>\n      <td>RB</td>\n      <td>16</td>\n      <td>15</td>\n      <td>278</td>\n      <td>1137</td>\n      <td>5</td>\n      <td>56</td>\n      <td>41</td>\n      <td>4.1</td>\n      <td>71.1</td>\n      <td>0</td>\n    </tr>\n    <tr>\n      <th>Leonard Fournette</th>\n      <td>/players/F/FourLe00.htm</td>\n      <td>Leonard Fournette</td>\n      <td>JAX</td>\n      <td>24</td>\n      <td>RB</td>\n      <td>15</td>\n      <td>15</td>\n      <td>265</td>\n      <td>1152</td>\n      <td>3</td>\n      <td>55</td>\n      <td>81</td>\n      <td>4.3</td>\n      <td>76.8</td>\n      <td>1</td>\n    </tr>\n    <tr>\n      <th>Dalvin Cook</th>\n      <td>/players/C/CookDa01.htm</td>\n      <td>Dalvin Cook*</td>\n      <td>MIN</td>\n      <td>24</td>\n      <td>RB</td>\n      <td>14</td>\n      <td>14</td>\n      <td>250</td>\n      <td>1135</td>\n      <td>13</td>\n      <td>60</td>\n      <td>75</td>\n      <td>4.5</td>\n      <td>81.1</td>\n      <td>4</td>\n    </tr>\n    <tr>\n      <th>Marlon Mack</th>\n      <td>/players/M/MackMa00.htm</td>\n      <td>Marlon Mack</td>\n      <td>IND</td>\n      <td>23</td>\n      <td>RB</td>\n      <td>14</td>\n      <td>12</td>\n      <td>247</td>\n      <td>1091</td>\n      <td>8</td>\n      <td>67</td>\n      <td>63</td>\n      <td>4.4</td>\n      <td>77.9</td>\n      <td>0</td>\n    </tr>\n    <tr>\n      <th>Sony Michel</th>\n      <td>/players/M/MichSo00.htm</td>\n      <td>Sony Michel</td>\n      <td>NWE</td>\n      <td>24</td>\n      <td>RB</td>\n      <td>16</td>\n      <td>14</td>\n      <td>247</td>\n      <td>912</td>\n      <td>7</td>\n      <td>55</td>\n      <td>26</td>\n      <td>3.7</td>\n      <td>57.0</td>\n      <td>2</td>\n    </tr>\n    <tr>\n      <th>Le'Veon Bell</th>\n      <td>/players/B/BellLe00.htm</td>\n      <td>Le'Veon Bell</td>\n      <td>NYJ</td>\n      <td>27</td>\n      <td>RB</td>\n      <td>15</td>\n      <td>15</td>\n      <td>245</td>\n      <td>789</td>\n      <td>3</td>\n      <td>36</td>\n      <td>19</td>\n      <td>3.2</td>\n      <td>52.6</td>\n      <td>1</td>\n    </tr>\n    <tr>\n      <th>Carlos Hyde</th>\n      <td>/players/H/HydeCa00.htm</td>\n      <td>Carlos Hyde</td>\n      <td>HOU</td>\n      <td>29</td>\n      <td>RB</td>\n      <td>16</td>\n      <td>14</td>\n      <td>245</td>\n      <td>1070</td>\n      <td>6</td>\n      <td>55</td>\n      <td>58</td>\n      <td>4.4</td>\n      <td>66.9</td>\n      <td>4</td>\n    </tr>\n    <tr>\n      <th>Josh Jacobs</th>\n      <td>/players/J/JacoJo01.htm</td>\n      <td>Josh Jacobs</td>\n      <td>OAK</td>\n      <td>21</td>\n      <td>RB</td>\n      <td>13</td>\n      <td>13</td>\n      <td>242</td>\n      <td>1150</td>\n      <td>7</td>\n      <td>53</td>\n      <td>51</td>\n      <td>4.8</td>\n      <td>88.5</td>\n      <td>1</td>\n    </tr>\n    <tr>\n      <th>David Montgomery</th>\n      <td>/players/M/MontDa01.htm</td>\n      <td>David Montgomery</td>\n      <td>CHI</td>\n      <td>22</td>\n      <td>rb</td>\n      <td>16</td>\n      <td>8</td>\n      <td>242</td>\n      <td>889</td>\n      <td>6</td>\n      <td>50</td>\n      <td>55</td>\n      <td>3.7</td>\n      <td>55.6</td>\n      <td>2</td>\n    </tr>\n    <tr>\n      <th>Aaron Jones</th>\n      <td>/players/J/JoneAa00.htm</td>\n      <td>Aaron Jones</td>\n      <td>GNB</td>\n      <td>25</td>\n      <td>RB</td>\n      <td>16</td>\n      <td>16</td>\n      <td>236</td>\n      <td>1084</td>\n      <td>16</td>\n      <td>55</td>\n      <td>56</td>\n      <td>4.6</td>\n      <td>67.8</td>\n      <td>3</td>\n    </tr>\n    <tr>\n      <th>Phillip Lindsay</th>\n      <td>/players/L/LindPh00.htm</td>\n      <td>Phillip Lindsay</td>\n      <td>DEN</td>\n      <td>25</td>\n      <td>RB</td>\n      <td>16</td>\n      <td>16</td>\n      <td>224</td>\n      <td>1011</td>\n      <td>7</td>\n      <td>38</td>\n      <td>40</td>\n      <td>4.5</td>\n      <td>63.2</td>\n      <td>0</td>\n    </tr>\n    <tr>\n      <th>Todd Gurley</th>\n      <td>/players/G/GurlTo01.htm</td>\n      <td>Todd Gurley</td>\n      <td>LAR</td>\n      <td>25</td>\n      <td>RB</td>\n      <td>15</td>\n      <td>15</td>\n      <td>223</td>\n      <td>857</td>\n      <td>12</td>\n      <td>51</td>\n      <td>25</td>\n      <td>3.8</td>\n      <td>57.1</td>\n      <td>3</td>\n    </tr>\n    <tr>\n      <th>Saquon Barkley</th>\n      <td>/players/B/BarkSa00.htm</td>\n      <td>Saquon Barkley</td>\n      <td>NYG</td>\n      <td>22</td>\n      <td>RB</td>\n      <td>13</td>\n      <td>13</td>\n      <td>217</td>\n      <td>1003</td>\n      <td>6</td>\n      <td>45</td>\n      <td>68</td>\n      <td>4.6</td>\n      <td>77.2</td>\n      <td>1</td>\n    </tr>\n    <tr>\n      <th>Adrian Peterson</th>\n      <td>/players/P/PeteAd01.htm</td>\n      <td>Adrian Peterson</td>\n      <td>WAS</td>\n      <td>34</td>\n      <td>RB</td>\n      <td>15</td>\n      <td>15</td>\n      <td>211</td>\n      <td>898</td>\n      <td>5</td>\n      <td>41</td>\n      <td>32</td>\n      <td>4.3</td>\n      <td>59.9</td>\n      <td>3</td>\n    </tr>\n    <tr>\n      <th>Mark Ingram</th>\n      <td>/players/I/IngrMa01.htm</td>\n      <td>Mark Ingram*</td>\n      <td>BAL</td>\n      <td>30</td>\n      <td>RB</td>\n      <td>15</td>\n      <td>15</td>\n      <td>202</td>\n      <td>1018</td>\n      <td>10</td>\n      <td>53</td>\n      <td>53</td>\n      <td>5.0</td>\n      <td>67.9</td>\n      <td>2</td>\n    </tr>\n    <tr>\n      <th>Devonta Freeman</th>\n      <td>/players/F/FreeDe00.htm</td>\n      <td>Devonta Freeman</td>\n      <td>ATL</td>\n      <td>27</td>\n      <td>RB</td>\n      <td>14</td>\n      <td>14</td>\n      <td>184</td>\n      <td>656</td>\n      <td>2</td>\n      <td>31</td>\n      <td>28</td>\n      <td>3.6</td>\n      <td>46.9</td>\n      <td>3</td>\n    </tr>\n    <tr>\n      <th>Miles Sanders</th>\n      <td>/players/S/SandMi01.htm</td>\n      <td>Miles Sanders</td>\n      <td>PHI</td>\n      <td>22</td>\n      <td>RB</td>\n      <td>16</td>\n      <td>11</td>\n      <td>179</td>\n      <td>818</td>\n      <td>3</td>\n      <td>30</td>\n      <td>65</td>\n      <td>4.6</td>\n      <td>51.1</td>\n      <td>2</td>\n    </tr>\n    <tr>\n      <th>Lamar Jackson</th>\n      <td>/players/J/JackLa00.htm</td>\n      <td>Lamar Jackson*+</td>\n      <td>BAL</td>\n      <td>22</td>\n      <td>QB</td>\n      <td>15</td>\n      <td>15</td>\n      <td>176</td>\n      <td>1206</td>\n      <td>7</td>\n      <td>71</td>\n      <td>47</td>\n      <td>6.9</td>\n      <td>80.4</td>\n      <td>9</td>\n    </tr>\n    <tr>\n      <th>Ronald Jones II</th>\n      <td>/players/J/JoneRo01.htm</td>\n      <td>Ronald Jones II</td>\n      <td>TAM</td>\n      <td>22</td>\n      <td>RB</td>\n      <td>16</td>\n      <td>9</td>\n      <td>172</td>\n      <td>724</td>\n      <td>6</td>\n      <td>34</td>\n      <td>49</td>\n      <td>4.2</td>\n      <td>45.3</td>\n      <td>3</td>\n    </tr>\n    <tr>\n      <th>Alvin Kamara</th>\n      <td>/players/K/KamaAl00.htm</td>\n      <td>Alvin Kamara*</td>\n      <td>NOR</td>\n      <td>24</td>\n      <td>RB</td>\n      <td>14</td>\n      <td>9</td>\n      <td>171</td>\n      <td>797</td>\n      <td>5</td>\n      <td>32</td>\n      <td>40</td>\n      <td>4.7</td>\n      <td>56.9</td>\n      <td>4</td>\n    </tr>\n  </tbody>\n</table>\n</div>"
     },
     "metadata": {},
     "execution_count": 327
    }
   ],
   "source": [
    "df_all_running_backs_2019"
   ]
  },
  {
   "cell_type": "code",
   "execution_count": 293,
   "metadata": {},
   "outputs": [],
   "source": [
    "def all_wide_receiver_headers(year, stat):\n",
    "\n",
    "    base_url = 'https://www.pro-football-reference.com/years/'\n",
    "    \n",
    "    #Create full url to scrape\n",
    "    url = base_url + year + '/' + stat + '.htm'\n",
    "\n",
    "    response = requests.get(url)\n",
    "    page = response.text\n",
    "\n",
    "    soup = BeautifulSoup(page,\"lxml\")\n",
    "\n",
    "    table_head = soup.find('thead').find('tr')\n",
    "\n",
    "    #Breaking down all data via rows \n",
    "    column_headers = [row.text for row in table_head.find_all('th')]  # tr tag is for rows\n",
    "    column_headers[0] = 'Link'\n",
    "\n",
    "    return column_headers"
   ]
  },
  {
   "cell_type": "code",
   "execution_count": 294,
   "metadata": {},
   "outputs": [],
   "source": [
    "df_all_wide_receivers_2019 = all_position_stats('2019','receiving')\n",
    "df_all_wide_receivers_2019.columns = all_wide_receiver_headers('2019','receiving')"
   ]
  },
  {
   "cell_type": "code",
   "execution_count": 295,
   "metadata": {},
   "outputs": [
    {
     "output_type": "execute_result",
     "data": {
      "text/plain": "                                         Link                  Player   Tm  \\\nMichael Thomas        /players/T/ThomMi05.htm        Michael Thomas*+  NOR   \nChristian McCaffrey   /players/M/McCaCh01.htm  Christian McCaffrey *+  CAR   \nKeenan Allen          /players/A/AlleKe00.htm           Keenan Allen*  LAC   \nDeAndre Hopkins       /players/H/HopkDe00.htm       DeAndre Hopkins*+  HOU   \nJulian Edelman        /players/E/EdelJu00.htm          Julian Edelman  NWE   \nJulio Jones           /players/J/JoneJu02.htm           Julio Jones *  ATL   \nAllen Robinson        /players/R/RobiAl02.htm          Allen Robinson  CHI   \nTravis Kelce          /players/K/KelcTr00.htm           Travis Kelce*  KAN   \nCooper Kupp           /players/K/KuppCo00.htm             Cooper Kupp  LAR   \nAustin Ekeler         /players/E/EkelAu00.htm           Austin Ekeler  LAC   \nTyler Boyd            /players/B/BoydTy00.htm              Tyler Boyd  CIN   \nDarren Waller         /players/W/WallDa01.htm           Darren Waller  OAK   \nRobert Woods          /players/W/WoodRo02.htm            Robert Woods  LAR   \nZach Ertz             /players/E/ErtzZa00.htm              Zach Ertz*  PHI   \nD.J. Moore            /players/M/MoorD.00.htm              D.J. Moore  CAR   \nChris Godwin          /players/G/GodwCh00.htm           Chris Godwin*  TAM   \nGeorge Kittle         /players/K/KittGe00.htm         George Kittle*+  SFO   \nDavante Adams         /players/A/AdamDa01.htm          Davante Adams*  GNB   \nJarvis Landry         /players/L/LandJa00.htm          Jarvis Landry*  CLE   \nTyler Lockett         /players/L/LockTy00.htm           Tyler Lockett  SEA   \nAlvin Kamara          /players/K/KamaAl00.htm           Alvin Kamara*  NOR   \nTarik Cohen           /players/C/CoheTa00.htm             Tarik Cohen  CHI   \nAmari Cooper          /players/C/CoopAm00.htm           Amari Cooper*  DAL   \nJamison Crowder       /players/C/CrowJa00.htm         Jamison Crowder  NYJ   \nLeonard Fournette     /players/F/FourLe00.htm      Leonard Fournette   JAX   \n\n                     Age Pos   G  GS  Tgt  Rec  Ctch%   Yds   Y/R  TD  1D Lng  \\\nMichael Thomas        26  WR  16  15  185  149  80.5%  1725  11.6   9  91  49   \nChristian McCaffrey   23  RB  16  16  142  116  81.7%  1005   8.7   4  58  28   \nKeenan Allen          27  WR  16  16  149  104  69.8%  1199  11.5   6  63  45   \nDeAndre Hopkins       27  WR  15  15  150  104  69.3%  1165  11.2   7  68  43   \nJulian Edelman        33  WR  16  13  153  100  65.4%  1117  11.2   6  54  44   \nJulio Jones           30  WR  15  15  157   99  63.1%  1394  14.1   6  77  54   \nAllen Robinson        26  WR  16  15  154   98  63.6%  1147  11.7   7  63  49   \nTravis Kelce          30  TE  16  16  136   97  71.3%  1229  12.7   5  65  47   \nCooper Kupp           26  WR  16  14  134   94  70.1%  1161  12.4  10  51  66   \nAustin Ekeler         24  rb  16   8  108   92  85.2%   993  10.8   8  42  84   \nTyler Boyd            25  WR  16  15  148   90  60.8%  1046  11.6   5  51  47   \nDarren Waller         27  TE  16  16  117   90  76.9%  1145  12.7   3  53  75   \nRobert Woods          27  WR  15  15  139   90  64.7%  1134  12.6   2  54  48   \nZach Ertz             29  TE  15  15  135   88  65.2%   916  10.4   6  50  30   \nD.J. Moore            22  WR  15  15  135   87  64.4%  1175  13.5   4  63  52   \nChris Godwin          23  WR  14  14  121   86  71.1%  1333  15.5   9  63  71   \nGeorge Kittle         26  TE  14  14  107   85  79.4%  1053  12.4   5  53  61   \nDavante Adams         27  WR  12  12  127   83  65.4%   997  12.0   5  54  58   \nJarvis Landry         27  WR  16  16  138   83  60.1%  1174  14.1   6  55  65   \nTyler Lockett         27  WR  16  16  110   82  74.5%  1057  12.9   8  53  44   \nAlvin Kamara          24  RB  14   9   97   81  83.5%   533   6.6   1  28  41   \nTarik Cohen           24  RB  16  11  104   79  76.0%   456   5.8   3  18  31   \nAmari Cooper          25  WR  16  16  119   79  66.4%  1189  15.1   8  54  53   \nJamison Crowder       26  WR  16  12  122   78  63.9%   833  10.7   6  41  41   \nLeonard Fournette     24  RB  15  15  100   76  76.0%   522   6.9   0  23  27   \n\n                     Y/Tgt  R/G    Y/G Fmb  \nMichael Thomas         9.3  9.3  107.8   1  \nChristian McCaffrey    7.1  7.3   62.8   1  \nKeenan Allen           8.0  6.5   74.9   0  \nDeAndre Hopkins        7.8  6.9   77.7   0  \nJulian Edelman         7.3  6.3   69.8   3  \nJulio Jones            8.9  6.6   92.9   1  \nAllen Robinson         7.4  6.1   71.7   0  \nTravis Kelce           9.0  6.1   76.8   1  \nCooper Kupp            8.7  5.9   72.6   3  \nAustin Ekeler          9.2  5.8   62.1   3  \nTyler Boyd             7.1  5.6   65.4   2  \nDarren Waller          9.8  5.6   71.6   1  \nRobert Woods           8.2  6.0   75.6   0  \nZach Ertz              6.8  5.9   61.1   1  \nD.J. Moore             8.7  5.8   78.3   2  \nChris Godwin          11.0  6.1   95.2   0  \nGeorge Kittle          9.8  6.1   75.2   1  \nDavante Adams          7.9  6.9   83.1   2  \nJarvis Landry          8.5  5.2   73.4   0  \nTyler Lockett          9.6  5.1   66.1   1  \nAlvin Kamara           5.5  5.8   38.1   4  \nTarik Cohen            4.4  4.9   28.5   3  \nAmari Cooper          10.0  4.9   74.3   0  \nJamison Crowder        6.8  4.9   52.1   0  \nLeonard Fournette      5.2  5.1   34.8   1  ",
      "text/html": "<div>\n<style scoped>\n    .dataframe tbody tr th:only-of-type {\n        vertical-align: middle;\n    }\n\n    .dataframe tbody tr th {\n        vertical-align: top;\n    }\n\n    .dataframe thead th {\n        text-align: right;\n    }\n</style>\n<table border=\"1\" class=\"dataframe\">\n  <thead>\n    <tr style=\"text-align: right;\">\n      <th></th>\n      <th>Link</th>\n      <th>Player</th>\n      <th>Tm</th>\n      <th>Age</th>\n      <th>Pos</th>\n      <th>G</th>\n      <th>GS</th>\n      <th>Tgt</th>\n      <th>Rec</th>\n      <th>Ctch%</th>\n      <th>Yds</th>\n      <th>Y/R</th>\n      <th>TD</th>\n      <th>1D</th>\n      <th>Lng</th>\n      <th>Y/Tgt</th>\n      <th>R/G</th>\n      <th>Y/G</th>\n      <th>Fmb</th>\n    </tr>\n  </thead>\n  <tbody>\n    <tr>\n      <th>Michael Thomas</th>\n      <td>/players/T/ThomMi05.htm</td>\n      <td>Michael Thomas*+</td>\n      <td>NOR</td>\n      <td>26</td>\n      <td>WR</td>\n      <td>16</td>\n      <td>15</td>\n      <td>185</td>\n      <td>149</td>\n      <td>80.5%</td>\n      <td>1725</td>\n      <td>11.6</td>\n      <td>9</td>\n      <td>91</td>\n      <td>49</td>\n      <td>9.3</td>\n      <td>9.3</td>\n      <td>107.8</td>\n      <td>1</td>\n    </tr>\n    <tr>\n      <th>Christian McCaffrey</th>\n      <td>/players/M/McCaCh01.htm</td>\n      <td>Christian McCaffrey *+</td>\n      <td>CAR</td>\n      <td>23</td>\n      <td>RB</td>\n      <td>16</td>\n      <td>16</td>\n      <td>142</td>\n      <td>116</td>\n      <td>81.7%</td>\n      <td>1005</td>\n      <td>8.7</td>\n      <td>4</td>\n      <td>58</td>\n      <td>28</td>\n      <td>7.1</td>\n      <td>7.3</td>\n      <td>62.8</td>\n      <td>1</td>\n    </tr>\n    <tr>\n      <th>Keenan Allen</th>\n      <td>/players/A/AlleKe00.htm</td>\n      <td>Keenan Allen*</td>\n      <td>LAC</td>\n      <td>27</td>\n      <td>WR</td>\n      <td>16</td>\n      <td>16</td>\n      <td>149</td>\n      <td>104</td>\n      <td>69.8%</td>\n      <td>1199</td>\n      <td>11.5</td>\n      <td>6</td>\n      <td>63</td>\n      <td>45</td>\n      <td>8.0</td>\n      <td>6.5</td>\n      <td>74.9</td>\n      <td>0</td>\n    </tr>\n    <tr>\n      <th>DeAndre Hopkins</th>\n      <td>/players/H/HopkDe00.htm</td>\n      <td>DeAndre Hopkins*+</td>\n      <td>HOU</td>\n      <td>27</td>\n      <td>WR</td>\n      <td>15</td>\n      <td>15</td>\n      <td>150</td>\n      <td>104</td>\n      <td>69.3%</td>\n      <td>1165</td>\n      <td>11.2</td>\n      <td>7</td>\n      <td>68</td>\n      <td>43</td>\n      <td>7.8</td>\n      <td>6.9</td>\n      <td>77.7</td>\n      <td>0</td>\n    </tr>\n    <tr>\n      <th>Julian Edelman</th>\n      <td>/players/E/EdelJu00.htm</td>\n      <td>Julian Edelman</td>\n      <td>NWE</td>\n      <td>33</td>\n      <td>WR</td>\n      <td>16</td>\n      <td>13</td>\n      <td>153</td>\n      <td>100</td>\n      <td>65.4%</td>\n      <td>1117</td>\n      <td>11.2</td>\n      <td>6</td>\n      <td>54</td>\n      <td>44</td>\n      <td>7.3</td>\n      <td>6.3</td>\n      <td>69.8</td>\n      <td>3</td>\n    </tr>\n    <tr>\n      <th>Julio Jones</th>\n      <td>/players/J/JoneJu02.htm</td>\n      <td>Julio Jones *</td>\n      <td>ATL</td>\n      <td>30</td>\n      <td>WR</td>\n      <td>15</td>\n      <td>15</td>\n      <td>157</td>\n      <td>99</td>\n      <td>63.1%</td>\n      <td>1394</td>\n      <td>14.1</td>\n      <td>6</td>\n      <td>77</td>\n      <td>54</td>\n      <td>8.9</td>\n      <td>6.6</td>\n      <td>92.9</td>\n      <td>1</td>\n    </tr>\n    <tr>\n      <th>Allen Robinson</th>\n      <td>/players/R/RobiAl02.htm</td>\n      <td>Allen Robinson</td>\n      <td>CHI</td>\n      <td>26</td>\n      <td>WR</td>\n      <td>16</td>\n      <td>15</td>\n      <td>154</td>\n      <td>98</td>\n      <td>63.6%</td>\n      <td>1147</td>\n      <td>11.7</td>\n      <td>7</td>\n      <td>63</td>\n      <td>49</td>\n      <td>7.4</td>\n      <td>6.1</td>\n      <td>71.7</td>\n      <td>0</td>\n    </tr>\n    <tr>\n      <th>Travis Kelce</th>\n      <td>/players/K/KelcTr00.htm</td>\n      <td>Travis Kelce*</td>\n      <td>KAN</td>\n      <td>30</td>\n      <td>TE</td>\n      <td>16</td>\n      <td>16</td>\n      <td>136</td>\n      <td>97</td>\n      <td>71.3%</td>\n      <td>1229</td>\n      <td>12.7</td>\n      <td>5</td>\n      <td>65</td>\n      <td>47</td>\n      <td>9.0</td>\n      <td>6.1</td>\n      <td>76.8</td>\n      <td>1</td>\n    </tr>\n    <tr>\n      <th>Cooper Kupp</th>\n      <td>/players/K/KuppCo00.htm</td>\n      <td>Cooper Kupp</td>\n      <td>LAR</td>\n      <td>26</td>\n      <td>WR</td>\n      <td>16</td>\n      <td>14</td>\n      <td>134</td>\n      <td>94</td>\n      <td>70.1%</td>\n      <td>1161</td>\n      <td>12.4</td>\n      <td>10</td>\n      <td>51</td>\n      <td>66</td>\n      <td>8.7</td>\n      <td>5.9</td>\n      <td>72.6</td>\n      <td>3</td>\n    </tr>\n    <tr>\n      <th>Austin Ekeler</th>\n      <td>/players/E/EkelAu00.htm</td>\n      <td>Austin Ekeler</td>\n      <td>LAC</td>\n      <td>24</td>\n      <td>rb</td>\n      <td>16</td>\n      <td>8</td>\n      <td>108</td>\n      <td>92</td>\n      <td>85.2%</td>\n      <td>993</td>\n      <td>10.8</td>\n      <td>8</td>\n      <td>42</td>\n      <td>84</td>\n      <td>9.2</td>\n      <td>5.8</td>\n      <td>62.1</td>\n      <td>3</td>\n    </tr>\n    <tr>\n      <th>Tyler Boyd</th>\n      <td>/players/B/BoydTy00.htm</td>\n      <td>Tyler Boyd</td>\n      <td>CIN</td>\n      <td>25</td>\n      <td>WR</td>\n      <td>16</td>\n      <td>15</td>\n      <td>148</td>\n      <td>90</td>\n      <td>60.8%</td>\n      <td>1046</td>\n      <td>11.6</td>\n      <td>5</td>\n      <td>51</td>\n      <td>47</td>\n      <td>7.1</td>\n      <td>5.6</td>\n      <td>65.4</td>\n      <td>2</td>\n    </tr>\n    <tr>\n      <th>Darren Waller</th>\n      <td>/players/W/WallDa01.htm</td>\n      <td>Darren Waller</td>\n      <td>OAK</td>\n      <td>27</td>\n      <td>TE</td>\n      <td>16</td>\n      <td>16</td>\n      <td>117</td>\n      <td>90</td>\n      <td>76.9%</td>\n      <td>1145</td>\n      <td>12.7</td>\n      <td>3</td>\n      <td>53</td>\n      <td>75</td>\n      <td>9.8</td>\n      <td>5.6</td>\n      <td>71.6</td>\n      <td>1</td>\n    </tr>\n    <tr>\n      <th>Robert Woods</th>\n      <td>/players/W/WoodRo02.htm</td>\n      <td>Robert Woods</td>\n      <td>LAR</td>\n      <td>27</td>\n      <td>WR</td>\n      <td>15</td>\n      <td>15</td>\n      <td>139</td>\n      <td>90</td>\n      <td>64.7%</td>\n      <td>1134</td>\n      <td>12.6</td>\n      <td>2</td>\n      <td>54</td>\n      <td>48</td>\n      <td>8.2</td>\n      <td>6.0</td>\n      <td>75.6</td>\n      <td>0</td>\n    </tr>\n    <tr>\n      <th>Zach Ertz</th>\n      <td>/players/E/ErtzZa00.htm</td>\n      <td>Zach Ertz*</td>\n      <td>PHI</td>\n      <td>29</td>\n      <td>TE</td>\n      <td>15</td>\n      <td>15</td>\n      <td>135</td>\n      <td>88</td>\n      <td>65.2%</td>\n      <td>916</td>\n      <td>10.4</td>\n      <td>6</td>\n      <td>50</td>\n      <td>30</td>\n      <td>6.8</td>\n      <td>5.9</td>\n      <td>61.1</td>\n      <td>1</td>\n    </tr>\n    <tr>\n      <th>D.J. Moore</th>\n      <td>/players/M/MoorD.00.htm</td>\n      <td>D.J. Moore</td>\n      <td>CAR</td>\n      <td>22</td>\n      <td>WR</td>\n      <td>15</td>\n      <td>15</td>\n      <td>135</td>\n      <td>87</td>\n      <td>64.4%</td>\n      <td>1175</td>\n      <td>13.5</td>\n      <td>4</td>\n      <td>63</td>\n      <td>52</td>\n      <td>8.7</td>\n      <td>5.8</td>\n      <td>78.3</td>\n      <td>2</td>\n    </tr>\n    <tr>\n      <th>Chris Godwin</th>\n      <td>/players/G/GodwCh00.htm</td>\n      <td>Chris Godwin*</td>\n      <td>TAM</td>\n      <td>23</td>\n      <td>WR</td>\n      <td>14</td>\n      <td>14</td>\n      <td>121</td>\n      <td>86</td>\n      <td>71.1%</td>\n      <td>1333</td>\n      <td>15.5</td>\n      <td>9</td>\n      <td>63</td>\n      <td>71</td>\n      <td>11.0</td>\n      <td>6.1</td>\n      <td>95.2</td>\n      <td>0</td>\n    </tr>\n    <tr>\n      <th>George Kittle</th>\n      <td>/players/K/KittGe00.htm</td>\n      <td>George Kittle*+</td>\n      <td>SFO</td>\n      <td>26</td>\n      <td>TE</td>\n      <td>14</td>\n      <td>14</td>\n      <td>107</td>\n      <td>85</td>\n      <td>79.4%</td>\n      <td>1053</td>\n      <td>12.4</td>\n      <td>5</td>\n      <td>53</td>\n      <td>61</td>\n      <td>9.8</td>\n      <td>6.1</td>\n      <td>75.2</td>\n      <td>1</td>\n    </tr>\n    <tr>\n      <th>Davante Adams</th>\n      <td>/players/A/AdamDa01.htm</td>\n      <td>Davante Adams*</td>\n      <td>GNB</td>\n      <td>27</td>\n      <td>WR</td>\n      <td>12</td>\n      <td>12</td>\n      <td>127</td>\n      <td>83</td>\n      <td>65.4%</td>\n      <td>997</td>\n      <td>12.0</td>\n      <td>5</td>\n      <td>54</td>\n      <td>58</td>\n      <td>7.9</td>\n      <td>6.9</td>\n      <td>83.1</td>\n      <td>2</td>\n    </tr>\n    <tr>\n      <th>Jarvis Landry</th>\n      <td>/players/L/LandJa00.htm</td>\n      <td>Jarvis Landry*</td>\n      <td>CLE</td>\n      <td>27</td>\n      <td>WR</td>\n      <td>16</td>\n      <td>16</td>\n      <td>138</td>\n      <td>83</td>\n      <td>60.1%</td>\n      <td>1174</td>\n      <td>14.1</td>\n      <td>6</td>\n      <td>55</td>\n      <td>65</td>\n      <td>8.5</td>\n      <td>5.2</td>\n      <td>73.4</td>\n      <td>0</td>\n    </tr>\n    <tr>\n      <th>Tyler Lockett</th>\n      <td>/players/L/LockTy00.htm</td>\n      <td>Tyler Lockett</td>\n      <td>SEA</td>\n      <td>27</td>\n      <td>WR</td>\n      <td>16</td>\n      <td>16</td>\n      <td>110</td>\n      <td>82</td>\n      <td>74.5%</td>\n      <td>1057</td>\n      <td>12.9</td>\n      <td>8</td>\n      <td>53</td>\n      <td>44</td>\n      <td>9.6</td>\n      <td>5.1</td>\n      <td>66.1</td>\n      <td>1</td>\n    </tr>\n    <tr>\n      <th>Alvin Kamara</th>\n      <td>/players/K/KamaAl00.htm</td>\n      <td>Alvin Kamara*</td>\n      <td>NOR</td>\n      <td>24</td>\n      <td>RB</td>\n      <td>14</td>\n      <td>9</td>\n      <td>97</td>\n      <td>81</td>\n      <td>83.5%</td>\n      <td>533</td>\n      <td>6.6</td>\n      <td>1</td>\n      <td>28</td>\n      <td>41</td>\n      <td>5.5</td>\n      <td>5.8</td>\n      <td>38.1</td>\n      <td>4</td>\n    </tr>\n    <tr>\n      <th>Tarik Cohen</th>\n      <td>/players/C/CoheTa00.htm</td>\n      <td>Tarik Cohen</td>\n      <td>CHI</td>\n      <td>24</td>\n      <td>RB</td>\n      <td>16</td>\n      <td>11</td>\n      <td>104</td>\n      <td>79</td>\n      <td>76.0%</td>\n      <td>456</td>\n      <td>5.8</td>\n      <td>3</td>\n      <td>18</td>\n      <td>31</td>\n      <td>4.4</td>\n      <td>4.9</td>\n      <td>28.5</td>\n      <td>3</td>\n    </tr>\n    <tr>\n      <th>Amari Cooper</th>\n      <td>/players/C/CoopAm00.htm</td>\n      <td>Amari Cooper*</td>\n      <td>DAL</td>\n      <td>25</td>\n      <td>WR</td>\n      <td>16</td>\n      <td>16</td>\n      <td>119</td>\n      <td>79</td>\n      <td>66.4%</td>\n      <td>1189</td>\n      <td>15.1</td>\n      <td>8</td>\n      <td>54</td>\n      <td>53</td>\n      <td>10.0</td>\n      <td>4.9</td>\n      <td>74.3</td>\n      <td>0</td>\n    </tr>\n    <tr>\n      <th>Jamison Crowder</th>\n      <td>/players/C/CrowJa00.htm</td>\n      <td>Jamison Crowder</td>\n      <td>NYJ</td>\n      <td>26</td>\n      <td>WR</td>\n      <td>16</td>\n      <td>12</td>\n      <td>122</td>\n      <td>78</td>\n      <td>63.9%</td>\n      <td>833</td>\n      <td>10.7</td>\n      <td>6</td>\n      <td>41</td>\n      <td>41</td>\n      <td>6.8</td>\n      <td>4.9</td>\n      <td>52.1</td>\n      <td>0</td>\n    </tr>\n    <tr>\n      <th>Leonard Fournette</th>\n      <td>/players/F/FourLe00.htm</td>\n      <td>Leonard Fournette</td>\n      <td>JAX</td>\n      <td>24</td>\n      <td>RB</td>\n      <td>15</td>\n      <td>15</td>\n      <td>100</td>\n      <td>76</td>\n      <td>76.0%</td>\n      <td>522</td>\n      <td>6.9</td>\n      <td>0</td>\n      <td>23</td>\n      <td>27</td>\n      <td>5.2</td>\n      <td>5.1</td>\n      <td>34.8</td>\n      <td>1</td>\n    </tr>\n  </tbody>\n</table>\n</div>"
     },
     "metadata": {},
     "execution_count": 295
    }
   ],
   "source": [
    "df_all_wide_receivers_2019"
   ]
  },
  {
   "cell_type": "code",
   "execution_count": 296,
   "metadata": {},
   "outputs": [],
   "source": [
    "#Pickling\n",
    "df_all_running_backs_2019.to_pickle(\"./df_all_running_backs_2019.pkl\")"
   ]
  },
  {
   "cell_type": "code",
   "execution_count": 297,
   "metadata": {},
   "outputs": [],
   "source": [
    "df_all_running_backs_2019 = pd.read_pickle(\"./df_all_running_backs_2019.pkl\")"
   ]
  },
  {
   "cell_type": "code",
   "execution_count": 314,
   "metadata": {},
   "outputs": [],
   "source": [
    "def get_running_back_df(link):\n",
    "    \n",
    "    \"\"\"\n",
    "    From Pro-Football-Reference link stub, request running back html, parse with BeautifulSoup, and\n",
    "    collect \n",
    "        - Name \n",
    "        - Carries\n",
    "        - Rush Yards\n",
    "        - Rush Yard Per Attempt\n",
    "        - Touchdowns\n",
    "    Return information as a dictionary.\n",
    "    \"\"\"\n",
    "    \n",
    "    base_url = 'https://www.pro-football-reference.com'\n",
    "    season = '/gamelog/2019'\n",
    "    \n",
    "    #Create full url to scrape\n",
    "    url = base_url + link + season\n",
    "\n",
    "    #Request HTML and parse\n",
    "    response = requests.get(url)\n",
    "    page = response.text\n",
    "    soup = BeautifulSoup(page,\"lxml\")\n",
    "\n",
    "    name = soup.find('h1').find('span').text\n",
    "\n",
    "    table = soup.find('tbody')\n",
    "\n",
    "    #Breaking down all data via rows via tr tag\n",
    "    rows = [row for row in table.select('tr')] \n",
    "\n",
    "    running_backs = {}\n",
    "\n",
    "    for row in rows:\n",
    "        items = row.find_all('td')\n",
    "        running_backs[row] = [i.text for i in items[:15]]\n",
    "\n",
    "    # #Create a dataframe of running back stats\n",
    "    df_running_backs = pd.DataFrame(running_backs).T.reset_index() #transpose\n",
    "\n",
    "    df_running_backs.columns = ['Name','Date','Game', 'Week', 'Age', 'Team', '','Opp', 'Result','Game_Started',\n",
    "    'Carries', 'Total_Rushing_Yards', 'Rushing_Yards_per_Attempt', 'Rushing_Touchdowns','None','None'] \n",
    "\n",
    "    # table_head = soup.find('thead').find_all('tr')[1]\n",
    "\n",
    "    #Breaking down all data via rows \n",
    "    # column_headers = [row.text for row in table_head.find_all('th')[:14]]  # tr tag is for rows\n",
    "    # column_headers[0] = 'Name'\n",
    "    # df_running_backs.columns = column_headers\n",
    "\n",
    "    df_running_backs['Name'] = np.where(df_running_backs['Name'], name , df_running_backs['Name'])\n",
    "    df_running_backs = df_running_backs.drop(columns=['Game','Age','','Game_Started'])\n",
    "\n",
    "    return df_running_backs"
   ]
  },
  {
   "cell_type": "code",
   "execution_count": 315,
   "metadata": {
    "tags": []
   },
   "outputs": [
    {
     "output_type": "execute_result",
     "data": {
      "text/plain": "     index            Name        Date Week Team  Opp   Result Carries  \\\n0        0  Derrick Henry   2019-09-08    1  TEN  CLE  W 43-13      19   \n1        1  Derrick Henry   2019-09-15    2  TEN  IND  L 17-19      15   \n2        2  Derrick Henry   2019-09-19    3  TEN  JAX   L 7-20      17   \n3        3  Derrick Henry   2019-09-29    4  TEN  ATL  W 24-10      27   \n4        4  Derrick Henry   2019-10-06    5  TEN  BUF   L 7-14      20   \n..     ...             ...         ...  ...  ...  ...      ...     ...   \n388      9    Alvin Kamara  2019-11-28   13  NOR  ATL  W 26-18      11   \n389     10    Alvin Kamara  2019-12-08   14  NOR  SFO  L 46-48      13   \n390     11    Alvin Kamara  2019-12-16   15  NOR  IND   W 34-7      14   \n391     12    Alvin Kamara  2019-12-22   16  NOR  TEN  W 38-28      11   \n392     13    Alvin Kamara  2019-12-29   17  NOR  CAR  W 42-10       8   \n\n    Total_Rushing_Yards Rushing_Yards_per_Attempt Rushing_Touchdowns None None  \n0                    84                      4.42                  1    2    1  \n1                    82                      5.47                  1    3    2  \n2                    44                      2.59                  1    2    1  \n3                   100                      3.70                  0    1    1  \n4                    78                      3.90                  1    0    0  \n..                  ...                       ...                ...  ...  ...  \n388                  61                      5.55                  0    8    4  \n389                  25                      1.92                  0    6    4  \n390                  66                      4.71                  0    5    5  \n391                  80                      7.27                  2    7    6  \n392                  39                      4.88                  2    3    2  \n\n[393 rows x 13 columns]",
      "text/html": "<div>\n<style scoped>\n    .dataframe tbody tr th:only-of-type {\n        vertical-align: middle;\n    }\n\n    .dataframe tbody tr th {\n        vertical-align: top;\n    }\n\n    .dataframe thead th {\n        text-align: right;\n    }\n</style>\n<table border=\"1\" class=\"dataframe\">\n  <thead>\n    <tr style=\"text-align: right;\">\n      <th></th>\n      <th>index</th>\n      <th>Name</th>\n      <th>Date</th>\n      <th>Week</th>\n      <th>Team</th>\n      <th>Opp</th>\n      <th>Result</th>\n      <th>Carries</th>\n      <th>Total_Rushing_Yards</th>\n      <th>Rushing_Yards_per_Attempt</th>\n      <th>Rushing_Touchdowns</th>\n      <th>None</th>\n      <th>None</th>\n    </tr>\n  </thead>\n  <tbody>\n    <tr>\n      <th>0</th>\n      <td>0</td>\n      <td>Derrick Henry</td>\n      <td>2019-09-08</td>\n      <td>1</td>\n      <td>TEN</td>\n      <td>CLE</td>\n      <td>W 43-13</td>\n      <td>19</td>\n      <td>84</td>\n      <td>4.42</td>\n      <td>1</td>\n      <td>2</td>\n      <td>1</td>\n    </tr>\n    <tr>\n      <th>1</th>\n      <td>1</td>\n      <td>Derrick Henry</td>\n      <td>2019-09-15</td>\n      <td>2</td>\n      <td>TEN</td>\n      <td>IND</td>\n      <td>L 17-19</td>\n      <td>15</td>\n      <td>82</td>\n      <td>5.47</td>\n      <td>1</td>\n      <td>3</td>\n      <td>2</td>\n    </tr>\n    <tr>\n      <th>2</th>\n      <td>2</td>\n      <td>Derrick Henry</td>\n      <td>2019-09-19</td>\n      <td>3</td>\n      <td>TEN</td>\n      <td>JAX</td>\n      <td>L 7-20</td>\n      <td>17</td>\n      <td>44</td>\n      <td>2.59</td>\n      <td>1</td>\n      <td>2</td>\n      <td>1</td>\n    </tr>\n    <tr>\n      <th>3</th>\n      <td>3</td>\n      <td>Derrick Henry</td>\n      <td>2019-09-29</td>\n      <td>4</td>\n      <td>TEN</td>\n      <td>ATL</td>\n      <td>W 24-10</td>\n      <td>27</td>\n      <td>100</td>\n      <td>3.70</td>\n      <td>0</td>\n      <td>1</td>\n      <td>1</td>\n    </tr>\n    <tr>\n      <th>4</th>\n      <td>4</td>\n      <td>Derrick Henry</td>\n      <td>2019-10-06</td>\n      <td>5</td>\n      <td>TEN</td>\n      <td>BUF</td>\n      <td>L 7-14</td>\n      <td>20</td>\n      <td>78</td>\n      <td>3.90</td>\n      <td>1</td>\n      <td>0</td>\n      <td>0</td>\n    </tr>\n    <tr>\n      <th>...</th>\n      <td>...</td>\n      <td>...</td>\n      <td>...</td>\n      <td>...</td>\n      <td>...</td>\n      <td>...</td>\n      <td>...</td>\n      <td>...</td>\n      <td>...</td>\n      <td>...</td>\n      <td>...</td>\n      <td>...</td>\n      <td>...</td>\n    </tr>\n    <tr>\n      <th>388</th>\n      <td>9</td>\n      <td>Alvin Kamara</td>\n      <td>2019-11-28</td>\n      <td>13</td>\n      <td>NOR</td>\n      <td>ATL</td>\n      <td>W 26-18</td>\n      <td>11</td>\n      <td>61</td>\n      <td>5.55</td>\n      <td>0</td>\n      <td>8</td>\n      <td>4</td>\n    </tr>\n    <tr>\n      <th>389</th>\n      <td>10</td>\n      <td>Alvin Kamara</td>\n      <td>2019-12-08</td>\n      <td>14</td>\n      <td>NOR</td>\n      <td>SFO</td>\n      <td>L 46-48</td>\n      <td>13</td>\n      <td>25</td>\n      <td>1.92</td>\n      <td>0</td>\n      <td>6</td>\n      <td>4</td>\n    </tr>\n    <tr>\n      <th>390</th>\n      <td>11</td>\n      <td>Alvin Kamara</td>\n      <td>2019-12-16</td>\n      <td>15</td>\n      <td>NOR</td>\n      <td>IND</td>\n      <td>W 34-7</td>\n      <td>14</td>\n      <td>66</td>\n      <td>4.71</td>\n      <td>0</td>\n      <td>5</td>\n      <td>5</td>\n    </tr>\n    <tr>\n      <th>391</th>\n      <td>12</td>\n      <td>Alvin Kamara</td>\n      <td>2019-12-22</td>\n      <td>16</td>\n      <td>NOR</td>\n      <td>TEN</td>\n      <td>W 38-28</td>\n      <td>11</td>\n      <td>80</td>\n      <td>7.27</td>\n      <td>2</td>\n      <td>7</td>\n      <td>6</td>\n    </tr>\n    <tr>\n      <th>392</th>\n      <td>13</td>\n      <td>Alvin Kamara</td>\n      <td>2019-12-29</td>\n      <td>17</td>\n      <td>NOR</td>\n      <td>CAR</td>\n      <td>W 42-10</td>\n      <td>8</td>\n      <td>39</td>\n      <td>4.88</td>\n      <td>2</td>\n      <td>3</td>\n      <td>2</td>\n    </tr>\n  </tbody>\n</table>\n<p>393 rows × 13 columns</p>\n</div>"
     },
     "metadata": {},
     "execution_count": 315
    }
   ],
   "source": [
    "#creates list of all movies with features\n",
    "all_running_backs = get_running_back_df(df_all_running_backs_2019.Link[0])\n",
    "\n",
    "for link in range(len(df_all_running_backs_2019.Link)):\n",
    "    all_running_backs = all_running_backs.append(get_running_back_df(df_all_running_backs_2019.Link[link]))\n",
    "all_running_backs.reset_index()"
   ]
  },
  {
   "cell_type": "code",
   "execution_count": 316,
   "metadata": {},
   "outputs": [],
   "source": [
    "def get_wide_receiver_df(link):\n",
    "    \n",
    "    \"\"\"\n",
    "    From Pro-Football-Reference link stub, request wide receiver html, parse with BeautifulSoup, and\n",
    "    collect \n",
    "        - Name \n",
    "        - Carries\n",
    "        - Rush Yards\n",
    "        - Rush Yard Per Attempt\n",
    "        - Touchdowns\n",
    "    Return information as a dictionary.\n",
    "    \"\"\"\n",
    "    \n",
    "    base_url = 'https://www.pro-football-reference.com'\n",
    "    season = '/gamelog/2019'\n",
    "    \n",
    "    #Create full url to scrape\n",
    "    url = base_url + link + season\n",
    "\n",
    "    #Request HTML and parse\n",
    "    response = requests.get(url)\n",
    "    page = response.text\n",
    "    soup = BeautifulSoup(page,\"lxml\")\n",
    "\n",
    "    name = soup.find('h1').find('span').text\n",
    "\n",
    "    table = soup.find('tbody')\n",
    "\n",
    "    #Breaking down all data via rows via tr tag\n",
    "    rows = [row for row in table.select('tr')] \n",
    "\n",
    "    running_backs = {}\n",
    "\n",
    "    for row in rows:\n",
    "        items = row.find_all('td')\n",
    "        running_backs[row] = [i.text for i in items[:15]]\n",
    "\n",
    "    # #Create a dataframe of running back stats\n",
    "    df_wide_receivers = pd.DataFrame(running_backs).T.reset_index() #transpose\n",
    "\n",
    "    df_wide_receivers.columns = ['Name','Date','Game', 'Week', 'Age', 'Team', '','Opp', 'Result','Game_Started',\n",
    "    'Targets', 'Receptions', 'Total_Yards', 'Yards/Reception', 'Touchdowns', 'Catch%'] \n",
    "\n",
    "    df_wide_receivers['Name'] = np.where(df_wide_receivers['Name'], name , df_wide_receivers['Name'])\n",
    "    df_wide_receivers = df_wide_receivers.drop(columns=['Game','Age','','Game_Started'])\n",
    "\n",
    "    return df_wide_receivers"
   ]
  },
  {
   "cell_type": "code",
   "execution_count": 317,
   "metadata": {},
   "outputs": [
    {
     "output_type": "execute_result",
     "data": {
      "text/plain": "     index                Name        Date Week Team  Opp   Result Targets  \\\n0        0      Michael Thomas  2019-09-09    1  NOR  HOU  W 30-28      13   \n1        1      Michael Thomas  2019-09-15    2  NOR  LAR   L 9-27      13   \n2        2      Michael Thomas  2019-09-22    3  NOR  SEA  W 33-27       7   \n3        3      Michael Thomas  2019-09-29    4  NOR  DAL  W 12-10       9   \n4        4      Michael Thomas  2019-10-06    5  NOR  TAM  W 31-24      13   \n..     ...                 ...         ...  ...  ...  ...      ...     ...   \n395     10  Leonard Fournette   2019-11-24   12  JAX  TEN  L 20-42      24   \n396     11  Leonard Fournette   2019-12-01   13  JAX  TAM  L 11-28      14   \n397     12  Leonard Fournette   2019-12-08   14  JAX  LAC  L 10-45      15   \n398     13  Leonard Fournette   2019-12-15   15  JAX  OAK  W 20-16      15   \n399     14  Leonard Fournette   2019-12-22   16  JAX  ATL  L 12-24      15   \n\n    Receptions Total_Yards Yards/Reception Touchdowns  Catch%  \n0           10         123           12.30          0   76.9%  \n1           10          89            8.90          0   76.9%  \n2            5          54           10.80          1   71.4%  \n3            9          95           10.56          0  100.0%  \n4           11         182           16.55          2   84.6%  \n..         ...         ...             ...        ...     ...  \n395         97        4.04               2         12       9  \n396         38        2.71               0         11       9  \n397         50        3.33               0          6       3  \n398         42        2.80               0          7       5  \n399         71        4.73               0          6       3  \n\n[400 rows x 13 columns]",
      "text/html": "<div>\n<style scoped>\n    .dataframe tbody tr th:only-of-type {\n        vertical-align: middle;\n    }\n\n    .dataframe tbody tr th {\n        vertical-align: top;\n    }\n\n    .dataframe thead th {\n        text-align: right;\n    }\n</style>\n<table border=\"1\" class=\"dataframe\">\n  <thead>\n    <tr style=\"text-align: right;\">\n      <th></th>\n      <th>index</th>\n      <th>Name</th>\n      <th>Date</th>\n      <th>Week</th>\n      <th>Team</th>\n      <th>Opp</th>\n      <th>Result</th>\n      <th>Targets</th>\n      <th>Receptions</th>\n      <th>Total_Yards</th>\n      <th>Yards/Reception</th>\n      <th>Touchdowns</th>\n      <th>Catch%</th>\n    </tr>\n  </thead>\n  <tbody>\n    <tr>\n      <th>0</th>\n      <td>0</td>\n      <td>Michael Thomas</td>\n      <td>2019-09-09</td>\n      <td>1</td>\n      <td>NOR</td>\n      <td>HOU</td>\n      <td>W 30-28</td>\n      <td>13</td>\n      <td>10</td>\n      <td>123</td>\n      <td>12.30</td>\n      <td>0</td>\n      <td>76.9%</td>\n    </tr>\n    <tr>\n      <th>1</th>\n      <td>1</td>\n      <td>Michael Thomas</td>\n      <td>2019-09-15</td>\n      <td>2</td>\n      <td>NOR</td>\n      <td>LAR</td>\n      <td>L 9-27</td>\n      <td>13</td>\n      <td>10</td>\n      <td>89</td>\n      <td>8.90</td>\n      <td>0</td>\n      <td>76.9%</td>\n    </tr>\n    <tr>\n      <th>2</th>\n      <td>2</td>\n      <td>Michael Thomas</td>\n      <td>2019-09-22</td>\n      <td>3</td>\n      <td>NOR</td>\n      <td>SEA</td>\n      <td>W 33-27</td>\n      <td>7</td>\n      <td>5</td>\n      <td>54</td>\n      <td>10.80</td>\n      <td>1</td>\n      <td>71.4%</td>\n    </tr>\n    <tr>\n      <th>3</th>\n      <td>3</td>\n      <td>Michael Thomas</td>\n      <td>2019-09-29</td>\n      <td>4</td>\n      <td>NOR</td>\n      <td>DAL</td>\n      <td>W 12-10</td>\n      <td>9</td>\n      <td>9</td>\n      <td>95</td>\n      <td>10.56</td>\n      <td>0</td>\n      <td>100.0%</td>\n    </tr>\n    <tr>\n      <th>4</th>\n      <td>4</td>\n      <td>Michael Thomas</td>\n      <td>2019-10-06</td>\n      <td>5</td>\n      <td>NOR</td>\n      <td>TAM</td>\n      <td>W 31-24</td>\n      <td>13</td>\n      <td>11</td>\n      <td>182</td>\n      <td>16.55</td>\n      <td>2</td>\n      <td>84.6%</td>\n    </tr>\n    <tr>\n      <th>...</th>\n      <td>...</td>\n      <td>...</td>\n      <td>...</td>\n      <td>...</td>\n      <td>...</td>\n      <td>...</td>\n      <td>...</td>\n      <td>...</td>\n      <td>...</td>\n      <td>...</td>\n      <td>...</td>\n      <td>...</td>\n      <td>...</td>\n    </tr>\n    <tr>\n      <th>395</th>\n      <td>10</td>\n      <td>Leonard Fournette</td>\n      <td>2019-11-24</td>\n      <td>12</td>\n      <td>JAX</td>\n      <td>TEN</td>\n      <td>L 20-42</td>\n      <td>24</td>\n      <td>97</td>\n      <td>4.04</td>\n      <td>2</td>\n      <td>12</td>\n      <td>9</td>\n    </tr>\n    <tr>\n      <th>396</th>\n      <td>11</td>\n      <td>Leonard Fournette</td>\n      <td>2019-12-01</td>\n      <td>13</td>\n      <td>JAX</td>\n      <td>TAM</td>\n      <td>L 11-28</td>\n      <td>14</td>\n      <td>38</td>\n      <td>2.71</td>\n      <td>0</td>\n      <td>11</td>\n      <td>9</td>\n    </tr>\n    <tr>\n      <th>397</th>\n      <td>12</td>\n      <td>Leonard Fournette</td>\n      <td>2019-12-08</td>\n      <td>14</td>\n      <td>JAX</td>\n      <td>LAC</td>\n      <td>L 10-45</td>\n      <td>15</td>\n      <td>50</td>\n      <td>3.33</td>\n      <td>0</td>\n      <td>6</td>\n      <td>3</td>\n    </tr>\n    <tr>\n      <th>398</th>\n      <td>13</td>\n      <td>Leonard Fournette</td>\n      <td>2019-12-15</td>\n      <td>15</td>\n      <td>JAX</td>\n      <td>OAK</td>\n      <td>W 20-16</td>\n      <td>15</td>\n      <td>42</td>\n      <td>2.80</td>\n      <td>0</td>\n      <td>7</td>\n      <td>5</td>\n    </tr>\n    <tr>\n      <th>399</th>\n      <td>14</td>\n      <td>Leonard Fournette</td>\n      <td>2019-12-22</td>\n      <td>16</td>\n      <td>JAX</td>\n      <td>ATL</td>\n      <td>L 12-24</td>\n      <td>15</td>\n      <td>71</td>\n      <td>4.73</td>\n      <td>0</td>\n      <td>6</td>\n      <td>3</td>\n    </tr>\n  </tbody>\n</table>\n<p>400 rows × 13 columns</p>\n</div>"
     },
     "metadata": {},
     "execution_count": 317
    }
   ],
   "source": [
    "#creates list of all movies with features\n",
    "all_wide_receivers = get_wide_receiver_df(df_all_wide_receivers_2019.Link[0])\n",
    "\n",
    "for link in range(len(df_all_wide_receivers_2019.Link)):\n",
    "    all_wide_receivers = all_wide_receivers.append(get_wide_receiver_df(df_all_wide_receivers_2019.Link[link]))\n",
    "all_wide_receivers.reset_index()"
   ]
  },
  {
   "cell_type": "code",
   "execution_count": 328,
   "metadata": {},
   "outputs": [],
   "source": [
    "df_all_defense_2019 = all_position_stats('2019', 'opp')\n",
    "df_all_defense_2019.columns = all_rb_defense_headers('2019','opp')"
   ]
  },
  {
   "cell_type": "code",
   "execution_count": 329,
   "metadata": {},
   "outputs": [
    {
     "output_type": "execute_result",
     "data": {
      "text/plain": "                                     Link                    Tm   G   PF  \\\nNew England Patriots  /teams/nwe/2019.htm  New England Patriots  16  225   \nBuffalo Bills         /teams/buf/2019.htm         Buffalo Bills  16  259   \nBaltimore Ravens      /teams/rav/2019.htm      Baltimore Ravens  16  282   \nChicago Bears         /teams/chi/2019.htm         Chicago Bears  16  298   \nMinnesota Vikings     /teams/min/2019.htm     Minnesota Vikings  16  303   \nPittsburgh Steelers   /teams/pit/2019.htm   Pittsburgh Steelers  16  303   \nKansas City Chiefs    /teams/kan/2019.htm    Kansas City Chiefs  16  308   \nSan Francisco 49ers   /teams/sfo/2019.htm   San Francisco 49ers  16  310   \nGreen Bay Packers     /teams/gnb/2019.htm     Green Bay Packers  16  313   \nDenver Broncos        /teams/den/2019.htm        Denver Broncos  16  316   \nDallas Cowboys        /teams/dal/2019.htm        Dallas Cowboys  16  321   \nTennessee Titans      /teams/oti/2019.htm      Tennessee Titans  16  331   \nNew Orleans Saints    /teams/nor/2019.htm    New Orleans Saints  16  341   \nLos Angeles Chargers  /teams/sdg/2019.htm  Los Angeles Chargers  16  345   \nPhiladelphia Eagles   /teams/phi/2019.htm   Philadelphia Eagles  16  354   \nNew York Jets         /teams/nyj/2019.htm         New York Jets  16  359   \nLos Angeles Rams      /teams/ram/2019.htm      Los Angeles Rams  16  364   \nIndianapolis Colts    /teams/clt/2019.htm    Indianapolis Colts  16  373   \nHouston Texans        /teams/htx/2019.htm        Houston Texans  16  385   \nCleveland Browns      /teams/cle/2019.htm      Cleveland Browns  16  393   \nJacksonville Jaguars  /teams/jax/2019.htm  Jacksonville Jaguars  16  397   \nSeattle Seahawks      /teams/sea/2019.htm      Seattle Seahawks  16  398   \nAtlanta Falcons       /teams/atl/2019.htm       Atlanta Falcons  16  399   \nOakland Raiders       /teams/rai/2019.htm       Oakland Raiders  16  419   \nCincinnati Bengals    /teams/cin/2019.htm    Cincinnati Bengals  16  420   \n\n                       Yds   Ply  Y/P  TO  FL 1stD  ...   Yds  TD  Y/A 1stD  \\\nNew England Patriots  4414   948  4.7  36  11  261  ...  1528   7  4.2   72   \nBuffalo Bills         4772   985  4.8  23   9  295  ...  1649  12  4.3   93   \nBaltimore Ravens      4809   921  5.2  25  12  276  ...  1494  12  4.4   74   \nChicago Bears         5186  1017  5.1  19   9  306  ...  1632  16  3.9   86   \nMinnesota Vikings     5465  1053  5.2  31  14  324  ...  1728   8  4.3   78   \nPittsburgh Steelers   4866  1030  4.7  38  18  304  ...  1753   7  3.8  110   \nKansas City Chiefs    5594  1043  5.4  23   7  344  ...  2051  14  4.9  115   \nSan Francisco 49ers   4509   968  4.7  27  15  285  ...  1802  11  4.5  105   \nGreen Bay Packers     5642   998  5.7  25   8  310  ...  1921  15  4.7   99   \nDenver Broncos        5392  1003  5.4  17   7  305  ...  1783   9  4.2   96   \nDallas Cowboys        5232  1015  5.2  17  10  327  ...  1656  14  4.1  101   \nTennessee Titans      5752  1056  5.4  23   9  335  ...  1672  14  4.0   95   \nNew Orleans Saints    5329   999  5.3  23  10  311  ...  1461  12  4.2   71   \nLos Angeles Chargers  5009   923  5.4  14   3  285  ...  1805  15  4.2  101   \nPhiladelphia Eagles   5307   967  5.5  20   9  289  ...  1442  13  4.1   76   \nNew York Jets         5170  1037  5.0  21   9  302  ...  1391  12  3.3   75   \nLos Angeles Rams      5434  1056  5.1  24  11  324  ...  1809  15  4.1  100   \nIndianapolis Colts    5549   986  5.6  23   8  323  ...  1567   8  4.1   93   \nHouston Texans        6213  1020  6.1  22  10  346  ...  1937  12  4.8   98   \nCleveland Browns      5785  1014  5.7  20   6  345  ...  2315  19  5.0  124   \nJacksonville Jaguars  6007   999  6.0  19   9  340  ...  2229  23  5.1  114   \nSeattle Seahawks      6106  1014  6.0  32  16  346  ...  1883  22  4.9   97   \nAtlanta Falcons       5693   985  5.8  20   8  330  ...  1775  13  4.2  108   \nOakland Raiders       5677   963  5.9  15   6  344  ...  1570  15  3.9   91   \nCincinnati Bengals    6299  1034  6.1  16   5  328  ...  2382  17  4.7  124   \n\n                      Pen   Yds 1stPy   Sc%   TO%      EXP  \nNew England Patriots  107   920    39  19.4  17.3   166.75  \nBuffalo Bills          94   815    33  23.6  12.4    48.85  \nBaltimore Ravens       97   795    39  32.9  14.6    21.61  \nChicago Bears         113   923    30  31.3  10.6     0.85  \nMinnesota Vikings      83   713    31  34.5  17.0    -3.88  \nPittsburgh Steelers   115  1118    30  29.9  19.0    86.78  \nKansas City Chiefs    116   844    39  34.6  13.6   -56.69  \nSan Francisco 49ers   116   957    30  29.0  14.2    84.41  \nGreen Bay Packers      97   968    20  34.3  14.0   -59.65  \nDenver Broncos        121  1041    34  37.3   8.4   -31.98  \nDallas Cowboys        102   855    38  35.5   9.9   -31.81  \nTennessee Titans      125  1025    27  32.1  11.8   -49.20  \nNew Orleans Saints     92   713    43  34.7  12.7   -38.89  \nLos Angeles Chargers  108   959    28  37.3   8.2   -84.11  \nPhiladelphia Eagles   115   959    28  33.9  10.2   -24.57  \nNew York Jets         107   902    40  34.4  10.1     6.94  \nLos Angeles Rams      105   829    30  33.7  12.7   -10.53  \nIndianapolis Colts    111  1040    23  39.3  13.1   -56.37  \nHouston Texans        109   859    28  39.3  13.1  -155.87  \nCleveland Browns      107   836    37  36.9  11.2   -88.15  \nJacksonville Jaguars  102   883    33  37.4   9.2  -118.09  \nSeattle Seahawks       96   798    25  37.1  16.3   -83.02  \nAtlanta Falcons       127  1080    30  42.8   9.0   -98.34  \nOakland Raiders        91   763    52  41.2   8.5  -159.71  \nCincinnati Bengals    122   988    21  39.8   8.8  -130.66  \n\n[25 rows x 28 columns]",
      "text/html": "<div>\n<style scoped>\n    .dataframe tbody tr th:only-of-type {\n        vertical-align: middle;\n    }\n\n    .dataframe tbody tr th {\n        vertical-align: top;\n    }\n\n    .dataframe thead th {\n        text-align: right;\n    }\n</style>\n<table border=\"1\" class=\"dataframe\">\n  <thead>\n    <tr style=\"text-align: right;\">\n      <th></th>\n      <th>Link</th>\n      <th>Tm</th>\n      <th>G</th>\n      <th>PF</th>\n      <th>Yds</th>\n      <th>Ply</th>\n      <th>Y/P</th>\n      <th>TO</th>\n      <th>FL</th>\n      <th>1stD</th>\n      <th>...</th>\n      <th>Yds</th>\n      <th>TD</th>\n      <th>Y/A</th>\n      <th>1stD</th>\n      <th>Pen</th>\n      <th>Yds</th>\n      <th>1stPy</th>\n      <th>Sc%</th>\n      <th>TO%</th>\n      <th>EXP</th>\n    </tr>\n  </thead>\n  <tbody>\n    <tr>\n      <th>New England Patriots</th>\n      <td>/teams/nwe/2019.htm</td>\n      <td>New England Patriots</td>\n      <td>16</td>\n      <td>225</td>\n      <td>4414</td>\n      <td>948</td>\n      <td>4.7</td>\n      <td>36</td>\n      <td>11</td>\n      <td>261</td>\n      <td>...</td>\n      <td>1528</td>\n      <td>7</td>\n      <td>4.2</td>\n      <td>72</td>\n      <td>107</td>\n      <td>920</td>\n      <td>39</td>\n      <td>19.4</td>\n      <td>17.3</td>\n      <td>166.75</td>\n    </tr>\n    <tr>\n      <th>Buffalo Bills</th>\n      <td>/teams/buf/2019.htm</td>\n      <td>Buffalo Bills</td>\n      <td>16</td>\n      <td>259</td>\n      <td>4772</td>\n      <td>985</td>\n      <td>4.8</td>\n      <td>23</td>\n      <td>9</td>\n      <td>295</td>\n      <td>...</td>\n      <td>1649</td>\n      <td>12</td>\n      <td>4.3</td>\n      <td>93</td>\n      <td>94</td>\n      <td>815</td>\n      <td>33</td>\n      <td>23.6</td>\n      <td>12.4</td>\n      <td>48.85</td>\n    </tr>\n    <tr>\n      <th>Baltimore Ravens</th>\n      <td>/teams/rav/2019.htm</td>\n      <td>Baltimore Ravens</td>\n      <td>16</td>\n      <td>282</td>\n      <td>4809</td>\n      <td>921</td>\n      <td>5.2</td>\n      <td>25</td>\n      <td>12</td>\n      <td>276</td>\n      <td>...</td>\n      <td>1494</td>\n      <td>12</td>\n      <td>4.4</td>\n      <td>74</td>\n      <td>97</td>\n      <td>795</td>\n      <td>39</td>\n      <td>32.9</td>\n      <td>14.6</td>\n      <td>21.61</td>\n    </tr>\n    <tr>\n      <th>Chicago Bears</th>\n      <td>/teams/chi/2019.htm</td>\n      <td>Chicago Bears</td>\n      <td>16</td>\n      <td>298</td>\n      <td>5186</td>\n      <td>1017</td>\n      <td>5.1</td>\n      <td>19</td>\n      <td>9</td>\n      <td>306</td>\n      <td>...</td>\n      <td>1632</td>\n      <td>16</td>\n      <td>3.9</td>\n      <td>86</td>\n      <td>113</td>\n      <td>923</td>\n      <td>30</td>\n      <td>31.3</td>\n      <td>10.6</td>\n      <td>0.85</td>\n    </tr>\n    <tr>\n      <th>Minnesota Vikings</th>\n      <td>/teams/min/2019.htm</td>\n      <td>Minnesota Vikings</td>\n      <td>16</td>\n      <td>303</td>\n      <td>5465</td>\n      <td>1053</td>\n      <td>5.2</td>\n      <td>31</td>\n      <td>14</td>\n      <td>324</td>\n      <td>...</td>\n      <td>1728</td>\n      <td>8</td>\n      <td>4.3</td>\n      <td>78</td>\n      <td>83</td>\n      <td>713</td>\n      <td>31</td>\n      <td>34.5</td>\n      <td>17.0</td>\n      <td>-3.88</td>\n    </tr>\n    <tr>\n      <th>Pittsburgh Steelers</th>\n      <td>/teams/pit/2019.htm</td>\n      <td>Pittsburgh Steelers</td>\n      <td>16</td>\n      <td>303</td>\n      <td>4866</td>\n      <td>1030</td>\n      <td>4.7</td>\n      <td>38</td>\n      <td>18</td>\n      <td>304</td>\n      <td>...</td>\n      <td>1753</td>\n      <td>7</td>\n      <td>3.8</td>\n      <td>110</td>\n      <td>115</td>\n      <td>1118</td>\n      <td>30</td>\n      <td>29.9</td>\n      <td>19.0</td>\n      <td>86.78</td>\n    </tr>\n    <tr>\n      <th>Kansas City Chiefs</th>\n      <td>/teams/kan/2019.htm</td>\n      <td>Kansas City Chiefs</td>\n      <td>16</td>\n      <td>308</td>\n      <td>5594</td>\n      <td>1043</td>\n      <td>5.4</td>\n      <td>23</td>\n      <td>7</td>\n      <td>344</td>\n      <td>...</td>\n      <td>2051</td>\n      <td>14</td>\n      <td>4.9</td>\n      <td>115</td>\n      <td>116</td>\n      <td>844</td>\n      <td>39</td>\n      <td>34.6</td>\n      <td>13.6</td>\n      <td>-56.69</td>\n    </tr>\n    <tr>\n      <th>San Francisco 49ers</th>\n      <td>/teams/sfo/2019.htm</td>\n      <td>San Francisco 49ers</td>\n      <td>16</td>\n      <td>310</td>\n      <td>4509</td>\n      <td>968</td>\n      <td>4.7</td>\n      <td>27</td>\n      <td>15</td>\n      <td>285</td>\n      <td>...</td>\n      <td>1802</td>\n      <td>11</td>\n      <td>4.5</td>\n      <td>105</td>\n      <td>116</td>\n      <td>957</td>\n      <td>30</td>\n      <td>29.0</td>\n      <td>14.2</td>\n      <td>84.41</td>\n    </tr>\n    <tr>\n      <th>Green Bay Packers</th>\n      <td>/teams/gnb/2019.htm</td>\n      <td>Green Bay Packers</td>\n      <td>16</td>\n      <td>313</td>\n      <td>5642</td>\n      <td>998</td>\n      <td>5.7</td>\n      <td>25</td>\n      <td>8</td>\n      <td>310</td>\n      <td>...</td>\n      <td>1921</td>\n      <td>15</td>\n      <td>4.7</td>\n      <td>99</td>\n      <td>97</td>\n      <td>968</td>\n      <td>20</td>\n      <td>34.3</td>\n      <td>14.0</td>\n      <td>-59.65</td>\n    </tr>\n    <tr>\n      <th>Denver Broncos</th>\n      <td>/teams/den/2019.htm</td>\n      <td>Denver Broncos</td>\n      <td>16</td>\n      <td>316</td>\n      <td>5392</td>\n      <td>1003</td>\n      <td>5.4</td>\n      <td>17</td>\n      <td>7</td>\n      <td>305</td>\n      <td>...</td>\n      <td>1783</td>\n      <td>9</td>\n      <td>4.2</td>\n      <td>96</td>\n      <td>121</td>\n      <td>1041</td>\n      <td>34</td>\n      <td>37.3</td>\n      <td>8.4</td>\n      <td>-31.98</td>\n    </tr>\n    <tr>\n      <th>Dallas Cowboys</th>\n      <td>/teams/dal/2019.htm</td>\n      <td>Dallas Cowboys</td>\n      <td>16</td>\n      <td>321</td>\n      <td>5232</td>\n      <td>1015</td>\n      <td>5.2</td>\n      <td>17</td>\n      <td>10</td>\n      <td>327</td>\n      <td>...</td>\n      <td>1656</td>\n      <td>14</td>\n      <td>4.1</td>\n      <td>101</td>\n      <td>102</td>\n      <td>855</td>\n      <td>38</td>\n      <td>35.5</td>\n      <td>9.9</td>\n      <td>-31.81</td>\n    </tr>\n    <tr>\n      <th>Tennessee Titans</th>\n      <td>/teams/oti/2019.htm</td>\n      <td>Tennessee Titans</td>\n      <td>16</td>\n      <td>331</td>\n      <td>5752</td>\n      <td>1056</td>\n      <td>5.4</td>\n      <td>23</td>\n      <td>9</td>\n      <td>335</td>\n      <td>...</td>\n      <td>1672</td>\n      <td>14</td>\n      <td>4.0</td>\n      <td>95</td>\n      <td>125</td>\n      <td>1025</td>\n      <td>27</td>\n      <td>32.1</td>\n      <td>11.8</td>\n      <td>-49.20</td>\n    </tr>\n    <tr>\n      <th>New Orleans Saints</th>\n      <td>/teams/nor/2019.htm</td>\n      <td>New Orleans Saints</td>\n      <td>16</td>\n      <td>341</td>\n      <td>5329</td>\n      <td>999</td>\n      <td>5.3</td>\n      <td>23</td>\n      <td>10</td>\n      <td>311</td>\n      <td>...</td>\n      <td>1461</td>\n      <td>12</td>\n      <td>4.2</td>\n      <td>71</td>\n      <td>92</td>\n      <td>713</td>\n      <td>43</td>\n      <td>34.7</td>\n      <td>12.7</td>\n      <td>-38.89</td>\n    </tr>\n    <tr>\n      <th>Los Angeles Chargers</th>\n      <td>/teams/sdg/2019.htm</td>\n      <td>Los Angeles Chargers</td>\n      <td>16</td>\n      <td>345</td>\n      <td>5009</td>\n      <td>923</td>\n      <td>5.4</td>\n      <td>14</td>\n      <td>3</td>\n      <td>285</td>\n      <td>...</td>\n      <td>1805</td>\n      <td>15</td>\n      <td>4.2</td>\n      <td>101</td>\n      <td>108</td>\n      <td>959</td>\n      <td>28</td>\n      <td>37.3</td>\n      <td>8.2</td>\n      <td>-84.11</td>\n    </tr>\n    <tr>\n      <th>Philadelphia Eagles</th>\n      <td>/teams/phi/2019.htm</td>\n      <td>Philadelphia Eagles</td>\n      <td>16</td>\n      <td>354</td>\n      <td>5307</td>\n      <td>967</td>\n      <td>5.5</td>\n      <td>20</td>\n      <td>9</td>\n      <td>289</td>\n      <td>...</td>\n      <td>1442</td>\n      <td>13</td>\n      <td>4.1</td>\n      <td>76</td>\n      <td>115</td>\n      <td>959</td>\n      <td>28</td>\n      <td>33.9</td>\n      <td>10.2</td>\n      <td>-24.57</td>\n    </tr>\n    <tr>\n      <th>New York Jets</th>\n      <td>/teams/nyj/2019.htm</td>\n      <td>New York Jets</td>\n      <td>16</td>\n      <td>359</td>\n      <td>5170</td>\n      <td>1037</td>\n      <td>5.0</td>\n      <td>21</td>\n      <td>9</td>\n      <td>302</td>\n      <td>...</td>\n      <td>1391</td>\n      <td>12</td>\n      <td>3.3</td>\n      <td>75</td>\n      <td>107</td>\n      <td>902</td>\n      <td>40</td>\n      <td>34.4</td>\n      <td>10.1</td>\n      <td>6.94</td>\n    </tr>\n    <tr>\n      <th>Los Angeles Rams</th>\n      <td>/teams/ram/2019.htm</td>\n      <td>Los Angeles Rams</td>\n      <td>16</td>\n      <td>364</td>\n      <td>5434</td>\n      <td>1056</td>\n      <td>5.1</td>\n      <td>24</td>\n      <td>11</td>\n      <td>324</td>\n      <td>...</td>\n      <td>1809</td>\n      <td>15</td>\n      <td>4.1</td>\n      <td>100</td>\n      <td>105</td>\n      <td>829</td>\n      <td>30</td>\n      <td>33.7</td>\n      <td>12.7</td>\n      <td>-10.53</td>\n    </tr>\n    <tr>\n      <th>Indianapolis Colts</th>\n      <td>/teams/clt/2019.htm</td>\n      <td>Indianapolis Colts</td>\n      <td>16</td>\n      <td>373</td>\n      <td>5549</td>\n      <td>986</td>\n      <td>5.6</td>\n      <td>23</td>\n      <td>8</td>\n      <td>323</td>\n      <td>...</td>\n      <td>1567</td>\n      <td>8</td>\n      <td>4.1</td>\n      <td>93</td>\n      <td>111</td>\n      <td>1040</td>\n      <td>23</td>\n      <td>39.3</td>\n      <td>13.1</td>\n      <td>-56.37</td>\n    </tr>\n    <tr>\n      <th>Houston Texans</th>\n      <td>/teams/htx/2019.htm</td>\n      <td>Houston Texans</td>\n      <td>16</td>\n      <td>385</td>\n      <td>6213</td>\n      <td>1020</td>\n      <td>6.1</td>\n      <td>22</td>\n      <td>10</td>\n      <td>346</td>\n      <td>...</td>\n      <td>1937</td>\n      <td>12</td>\n      <td>4.8</td>\n      <td>98</td>\n      <td>109</td>\n      <td>859</td>\n      <td>28</td>\n      <td>39.3</td>\n      <td>13.1</td>\n      <td>-155.87</td>\n    </tr>\n    <tr>\n      <th>Cleveland Browns</th>\n      <td>/teams/cle/2019.htm</td>\n      <td>Cleveland Browns</td>\n      <td>16</td>\n      <td>393</td>\n      <td>5785</td>\n      <td>1014</td>\n      <td>5.7</td>\n      <td>20</td>\n      <td>6</td>\n      <td>345</td>\n      <td>...</td>\n      <td>2315</td>\n      <td>19</td>\n      <td>5.0</td>\n      <td>124</td>\n      <td>107</td>\n      <td>836</td>\n      <td>37</td>\n      <td>36.9</td>\n      <td>11.2</td>\n      <td>-88.15</td>\n    </tr>\n    <tr>\n      <th>Jacksonville Jaguars</th>\n      <td>/teams/jax/2019.htm</td>\n      <td>Jacksonville Jaguars</td>\n      <td>16</td>\n      <td>397</td>\n      <td>6007</td>\n      <td>999</td>\n      <td>6.0</td>\n      <td>19</td>\n      <td>9</td>\n      <td>340</td>\n      <td>...</td>\n      <td>2229</td>\n      <td>23</td>\n      <td>5.1</td>\n      <td>114</td>\n      <td>102</td>\n      <td>883</td>\n      <td>33</td>\n      <td>37.4</td>\n      <td>9.2</td>\n      <td>-118.09</td>\n    </tr>\n    <tr>\n      <th>Seattle Seahawks</th>\n      <td>/teams/sea/2019.htm</td>\n      <td>Seattle Seahawks</td>\n      <td>16</td>\n      <td>398</td>\n      <td>6106</td>\n      <td>1014</td>\n      <td>6.0</td>\n      <td>32</td>\n      <td>16</td>\n      <td>346</td>\n      <td>...</td>\n      <td>1883</td>\n      <td>22</td>\n      <td>4.9</td>\n      <td>97</td>\n      <td>96</td>\n      <td>798</td>\n      <td>25</td>\n      <td>37.1</td>\n      <td>16.3</td>\n      <td>-83.02</td>\n    </tr>\n    <tr>\n      <th>Atlanta Falcons</th>\n      <td>/teams/atl/2019.htm</td>\n      <td>Atlanta Falcons</td>\n      <td>16</td>\n      <td>399</td>\n      <td>5693</td>\n      <td>985</td>\n      <td>5.8</td>\n      <td>20</td>\n      <td>8</td>\n      <td>330</td>\n      <td>...</td>\n      <td>1775</td>\n      <td>13</td>\n      <td>4.2</td>\n      <td>108</td>\n      <td>127</td>\n      <td>1080</td>\n      <td>30</td>\n      <td>42.8</td>\n      <td>9.0</td>\n      <td>-98.34</td>\n    </tr>\n    <tr>\n      <th>Oakland Raiders</th>\n      <td>/teams/rai/2019.htm</td>\n      <td>Oakland Raiders</td>\n      <td>16</td>\n      <td>419</td>\n      <td>5677</td>\n      <td>963</td>\n      <td>5.9</td>\n      <td>15</td>\n      <td>6</td>\n      <td>344</td>\n      <td>...</td>\n      <td>1570</td>\n      <td>15</td>\n      <td>3.9</td>\n      <td>91</td>\n      <td>91</td>\n      <td>763</td>\n      <td>52</td>\n      <td>41.2</td>\n      <td>8.5</td>\n      <td>-159.71</td>\n    </tr>\n    <tr>\n      <th>Cincinnati Bengals</th>\n      <td>/teams/cin/2019.htm</td>\n      <td>Cincinnati Bengals</td>\n      <td>16</td>\n      <td>420</td>\n      <td>6299</td>\n      <td>1034</td>\n      <td>6.1</td>\n      <td>16</td>\n      <td>5</td>\n      <td>328</td>\n      <td>...</td>\n      <td>2382</td>\n      <td>17</td>\n      <td>4.7</td>\n      <td>124</td>\n      <td>122</td>\n      <td>988</td>\n      <td>21</td>\n      <td>39.8</td>\n      <td>8.8</td>\n      <td>-130.66</td>\n    </tr>\n  </tbody>\n</table>\n<p>25 rows × 28 columns</p>\n</div>"
     },
     "metadata": {},
     "execution_count": 329
    }
   ],
   "source": [
    "df_all_defense_2019"
   ]
  },
  {
   "cell_type": "code",
   "execution_count": 364,
   "metadata": {},
   "outputs": [],
   "source": [
    "def get_defense_df(link):\n",
    "    \n",
    "    \"\"\"\n",
    "    From Pro-Football-Reference link stub, request running back html, parse with BeautifulSoup, and\n",
    "    collect \n",
    "        - Name \n",
    "        - Carries\n",
    "        - Rush Yards\n",
    "        - Rush Yard Per Attempt\n",
    "        - Touchdowns\n",
    "    Return information as a dictionary.\n",
    "    \"\"\"\n",
    "    \n",
    "    base_url = 'https://www.pro-football-reference.com'\n",
    "    \n",
    "    #Create full url to scrape\n",
    "    url = base_url + link\n",
    "\n",
    "    #Request HTML and parse\n",
    "    response = requests.get(url)\n",
    "    page = response.text\n",
    "    soup = BeautifulSoup(page,\"lxml\")\n",
    "\n",
    "    name = soup.find('h1').find_all('span')[1].text\n",
    "\n",
    "    table = soup.find_all('tbody')[1]\n",
    "\n",
    "    #Breaking down all data via rows via tr tag\n",
    "    rows = [row for row in table.select('tr')] \n",
    "\n",
    "    defense = {}\n",
    "\n",
    "    for row in rows:\n",
    "        items = row.find_all('td')\n",
    "        defense[row] = [i.text for i in items[:21]]\n",
    "\n",
    "    # #Create a dataframe of running back stats\n",
    "    df_defense = pd.DataFrame(defense).T.reset_index() #transpose\n",
    "\n",
    "    df_defense.columns = ['Team','Day','Date','Time', 'Boxscore','Win/Loss','OT','Record','','Opponent','Points',\n",
    "    'Opponent Score','1st Downs','Total_Yards','Pass_Yards','Rush_Yards','TurnOvers','1stDowns','Defense_Total_Yards','Defense_Pass_Yards','Defense_Rush_Yards','Turnovers'] \n",
    "\n",
    "    df_defense['Team'] = np.where(df_defense['Team'], name , df_defense['Team'])\n",
    "    df_defense = df_defense.drop(columns=['Time','Boxscore','Win/Loss','OT','Record','','1st Downs','Total_Yards','Pass_Yards','Rush_Yards','TurnOvers'])\n",
    "\n",
    "    return df_defense"
   ]
  },
  {
   "cell_type": "code",
   "execution_count": 369,
   "metadata": {
    "tags": []
   },
   "outputs": [
    {
     "output_type": "execute_result",
     "data": {
      "text/plain": "     index                  Team  Day          Date              Opponent  \\\n0        0  New England Patriots  Sun   September 8   Pittsburgh Steelers   \n1        1  New England Patriots  Sun  September 15        Miami Dolphins   \n2        2  New England Patriots  Sun  September 22         New York Jets   \n3        3  New England Patriots  Sun  September 29         Buffalo Bills   \n4        4  New England Patriots  Sun     October 6   Washington Redskins   \n..     ...                   ...  ...           ...                   ...   \n473     12    Cincinnati Bengals  Sun    December 1         New York Jets   \n474     13    Cincinnati Bengals  Sun    December 8      Cleveland Browns   \n475     14    Cincinnati Bengals  Sun   December 15  New England Patriots   \n476     15    Cincinnati Bengals  Sun   December 22        Miami Dolphins   \n477     16    Cincinnati Bengals  Sun   December 29      Cleveland Browns   \n\n    Points Opponent Score 1stDowns Defense_Total_Yards Defense_Pass_Yards  \\\n0       33              3       15                 308                276   \n1       43              0       11                 184                142   \n2       30             14        6                 105                 69   \n3       16             10       23                 375                240   \n4       33              7       11                 223                 78   \n..     ...            ...      ...                 ...                ...   \n473     22              6       15                 271                209   \n474     19             27       17                 333                187   \n475     13             34       19                 291                116   \n476     35             38       29                 502                406   \n477     33             23       15                 313                239   \n\n    Defense_Rush_Yards Turnovers  \n0                   32         1  \n1                   42         4  \n2                   36         1  \n3                  135         4  \n4                  145         2  \n..                 ...       ...  \n473                 62            \n474                146         2  \n475                175            \n476                 96         1  \n477                 74         3  \n\n[478 rows x 12 columns]",
      "text/html": "<div>\n<style scoped>\n    .dataframe tbody tr th:only-of-type {\n        vertical-align: middle;\n    }\n\n    .dataframe tbody tr th {\n        vertical-align: top;\n    }\n\n    .dataframe thead th {\n        text-align: right;\n    }\n</style>\n<table border=\"1\" class=\"dataframe\">\n  <thead>\n    <tr style=\"text-align: right;\">\n      <th></th>\n      <th>index</th>\n      <th>Team</th>\n      <th>Day</th>\n      <th>Date</th>\n      <th>Opponent</th>\n      <th>Points</th>\n      <th>Opponent Score</th>\n      <th>1stDowns</th>\n      <th>Defense_Total_Yards</th>\n      <th>Defense_Pass_Yards</th>\n      <th>Defense_Rush_Yards</th>\n      <th>Turnovers</th>\n    </tr>\n  </thead>\n  <tbody>\n    <tr>\n      <th>0</th>\n      <td>0</td>\n      <td>New England Patriots</td>\n      <td>Sun</td>\n      <td>September 8</td>\n      <td>Pittsburgh Steelers</td>\n      <td>33</td>\n      <td>3</td>\n      <td>15</td>\n      <td>308</td>\n      <td>276</td>\n      <td>32</td>\n      <td>1</td>\n    </tr>\n    <tr>\n      <th>1</th>\n      <td>1</td>\n      <td>New England Patriots</td>\n      <td>Sun</td>\n      <td>September 15</td>\n      <td>Miami Dolphins</td>\n      <td>43</td>\n      <td>0</td>\n      <td>11</td>\n      <td>184</td>\n      <td>142</td>\n      <td>42</td>\n      <td>4</td>\n    </tr>\n    <tr>\n      <th>2</th>\n      <td>2</td>\n      <td>New England Patriots</td>\n      <td>Sun</td>\n      <td>September 22</td>\n      <td>New York Jets</td>\n      <td>30</td>\n      <td>14</td>\n      <td>6</td>\n      <td>105</td>\n      <td>69</td>\n      <td>36</td>\n      <td>1</td>\n    </tr>\n    <tr>\n      <th>3</th>\n      <td>3</td>\n      <td>New England Patriots</td>\n      <td>Sun</td>\n      <td>September 29</td>\n      <td>Buffalo Bills</td>\n      <td>16</td>\n      <td>10</td>\n      <td>23</td>\n      <td>375</td>\n      <td>240</td>\n      <td>135</td>\n      <td>4</td>\n    </tr>\n    <tr>\n      <th>4</th>\n      <td>4</td>\n      <td>New England Patriots</td>\n      <td>Sun</td>\n      <td>October 6</td>\n      <td>Washington Redskins</td>\n      <td>33</td>\n      <td>7</td>\n      <td>11</td>\n      <td>223</td>\n      <td>78</td>\n      <td>145</td>\n      <td>2</td>\n    </tr>\n    <tr>\n      <th>...</th>\n      <td>...</td>\n      <td>...</td>\n      <td>...</td>\n      <td>...</td>\n      <td>...</td>\n      <td>...</td>\n      <td>...</td>\n      <td>...</td>\n      <td>...</td>\n      <td>...</td>\n      <td>...</td>\n      <td>...</td>\n    </tr>\n    <tr>\n      <th>473</th>\n      <td>12</td>\n      <td>Cincinnati Bengals</td>\n      <td>Sun</td>\n      <td>December 1</td>\n      <td>New York Jets</td>\n      <td>22</td>\n      <td>6</td>\n      <td>15</td>\n      <td>271</td>\n      <td>209</td>\n      <td>62</td>\n      <td></td>\n    </tr>\n    <tr>\n      <th>474</th>\n      <td>13</td>\n      <td>Cincinnati Bengals</td>\n      <td>Sun</td>\n      <td>December 8</td>\n      <td>Cleveland Browns</td>\n      <td>19</td>\n      <td>27</td>\n      <td>17</td>\n      <td>333</td>\n      <td>187</td>\n      <td>146</td>\n      <td>2</td>\n    </tr>\n    <tr>\n      <th>475</th>\n      <td>14</td>\n      <td>Cincinnati Bengals</td>\n      <td>Sun</td>\n      <td>December 15</td>\n      <td>New England Patriots</td>\n      <td>13</td>\n      <td>34</td>\n      <td>19</td>\n      <td>291</td>\n      <td>116</td>\n      <td>175</td>\n      <td></td>\n    </tr>\n    <tr>\n      <th>476</th>\n      <td>15</td>\n      <td>Cincinnati Bengals</td>\n      <td>Sun</td>\n      <td>December 22</td>\n      <td>Miami Dolphins</td>\n      <td>35</td>\n      <td>38</td>\n      <td>29</td>\n      <td>502</td>\n      <td>406</td>\n      <td>96</td>\n      <td>1</td>\n    </tr>\n    <tr>\n      <th>477</th>\n      <td>16</td>\n      <td>Cincinnati Bengals</td>\n      <td>Sun</td>\n      <td>December 29</td>\n      <td>Cleveland Browns</td>\n      <td>33</td>\n      <td>23</td>\n      <td>15</td>\n      <td>313</td>\n      <td>239</td>\n      <td>74</td>\n      <td>3</td>\n    </tr>\n  </tbody>\n</table>\n<p>478 rows × 12 columns</p>\n</div>"
     },
     "metadata": {},
     "execution_count": 369
    }
   ],
   "source": [
    "#creates list of all movies with features\n",
    "all_defense = get_defense_df(df_all_defense_2019.Link[0])\n",
    "\n",
    "for link in range(len(df_all_defense_2019.Link)):\n",
    "    all_defense = all_defense.append(get_defense_df(df_all_defense_2019.Link[link]))\n",
    "all_defense.reset_index()"
   ]
  },
  {
   "cell_type": "code",
   "execution_count": null,
   "metadata": {},
   "outputs": [],
   "source": []
  }
 ]
}